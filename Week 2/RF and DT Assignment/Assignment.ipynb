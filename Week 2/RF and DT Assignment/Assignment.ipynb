{
 "cells": [
  {
   "cell_type": "code",
   "execution_count": null,
   "id": "5a962c97-29dd-4cc6-af66-ee9dc02f92b8",
   "metadata": {},
   "outputs": [],
   "source": [
    "import numpy as np\n",
    "import pandas as pd\n",
    "from sklearn.ensemble import RandomForestClassifier\n",
    "from sklearn.metrics import accuracy_score\n",
    "from sklearn.tree import DecisionTreeClassifier"
   ]
  },
  {
   "cell_type": "code",
   "execution_count": null,
   "id": "d1e29483-3208-4ced-bb12-f17686f73d8d",
   "metadata": {},
   "outputs": [],
   "source": [
    "df=pd.read_csv(\"spotify Edited.csv\")\n",
    "df.head(10)"
   ]
  },
  {
   "cell_type": "markdown",
   "id": "3f915648-fe7e-4218-a709-96f2c05daeb3",
   "metadata": {},
   "source": [
    "Decision Tree"
   ]
  },
  {
   "cell_type": "code",
   "execution_count": null,
   "id": "db77b701-1f83-47ac-b3b3-68612fc68865",
   "metadata": {},
   "outputs": [],
   "source": [
    "# class Node():\n",
    "#     def __init__(self, feature_index=None, threshold=None, left=None, right=None, info_gain=None, value=None):\n",
    "#         ''' constructor ''' \n",
    "        \n",
    "#         # for decision node\n",
    "#         self.feature_index = feature_index\n",
    "#         self.threshold = threshold\n",
    "#         self.left = left\n",
    "#         self.right = right\n",
    "#         self.info_gain = info_gain\n",
    "        \n",
    "#         # for leaf node\n",
    "#         self.value = value"
   ]
  },
  {
   "cell_type": "code",
   "execution_count": null,
   "id": "b71ba93a-8998-48d5-b8fd-36d2e45b3f51",
   "metadata": {},
   "outputs": [],
   "source": [
    "# class DecisionTreeClassifier():\n",
    "#     def __init__(self, min_samples_split=2, max_depth=2):\n",
    "#         ''' constructor '''\n",
    "        \n",
    "#         # initialize the root of the tree \n",
    "#         self.root = None\n",
    "        \n",
    "#         # stopping conditions\n",
    "#         self.min_samples_split = min_samples_split\n",
    "#         self.max_depth = max_depth\n",
    "        \n",
    "#     def build_tree(self, dataset, curr_depth=0):\n",
    "#         ''' recursive function to build the tree ''' \n",
    "        \n",
    "#         X = data.drop(columns=['playlist_genre'])\n",
    "#         Y = data['playlist_genre']\n",
    "#         num_samples, num_features = np.shape(X)\n",
    "        \n",
    "#         # split until stopping conditions are met\n",
    "#         if num_samples>=self.min_samples_split and curr_depth<=self.max_depth:\n",
    "#             # find the best split\n",
    "#             best_split = self.get_best_split(dataset, num_samples, num_features)\n",
    "#             # check if information gain is positive\n",
    "#             if best_split[\"info_gain\"]>0:\n",
    "#                 # recur left\n",
    "#                 left_subtree = self.build_tree(best_split[\"dataset_left\"], curr_depth+1)\n",
    "#                 # recur right\n",
    "#                 right_subtree = self.build_tree(best_split[\"dataset_right\"], curr_depth+1)\n",
    "#                 # return decision node\n",
    "#                 return Node(best_split[\"feature_index\"], best_split[\"threshold\"], \n",
    "#                             left_subtree, right_subtree, best_split[\"info_gain\"])\n",
    "        \n",
    "#         # compute leaf node\n",
    "#         leaf_value = self.calculate_leaf_value(Y)\n",
    "#         # return leaf node\n",
    "#         return Node(value=leaf_value)\n",
    "#     def get_best_split(self, dataset, num_samples, num_features):\n",
    "#         ''' function to find the best split '''\n",
    "        \n",
    "#         # dictionary to store the best split\n",
    "#         best_split = {}\n",
    "#         max_info_gain = -float(\"inf\")\n",
    "        \n",
    "#         # loop over all the features\n",
    "#         for feature_index in range(num_features):\n",
    "#             feature_values = dataset[:, feature_index]\n",
    "#             possible_thresholds = np.unique(feature_values)\n",
    "#             # loop over all the feature values present in the data\n",
    "#             for threshold in possible_thresholds:\n",
    "#                 # get current split\n",
    "#                 dataset_left, dataset_right = self.split(dataset, feature_index, threshold)\n",
    "#                 # check if childs are not null\n",
    "#                 if len(dataset_left)>0 and len(dataset_right)>0:\n",
    "#                     y, left_y, right_y = dataset[:, -1], dataset_left[:, -1], dataset_right[:, -1]\n",
    "#                     # compute information gain\n",
    "#                     curr_info_gain = self.information_gain(y, left_y, right_y, \"gini\")\n",
    "#                     # update the best split if needed\n",
    "#                     if curr_info_gain>max_info_gain:\n",
    "#                         best_split[\"feature_index\"] = feature_index\n",
    "#                         best_split[\"threshold\"] = threshold\n",
    "#                         best_split[\"dataset_left\"] = dataset_left\n",
    "#                         best_split[\"dataset_right\"] = dataset_right\n",
    "#                         best_split[\"info_gain\"] = curr_info_gain\n",
    "#                         max_info_gain = curr_info_gain\n",
    "                        \n",
    "#         # return best split\n",
    "#         return best_split\n",
    "    \n",
    "#     def split(self, dataset, feature_index, threshold):\n",
    "#         ''' function to split the data '''\n",
    "        \n",
    "#         dataset_left = np.array([row for row in dataset if row[feature_index]<=threshold])\n",
    "#         dataset_right = np.array([row for row in dataset if row[feature_index]>threshold])\n",
    "#         return dataset_left, dataset_right\n",
    "    \n",
    "#     def information_gain(self, parent, l_child, r_child, mode=\"entropy\"):\n",
    "#         ''' function to compute information gain '''\n",
    "        \n",
    "#         weight_l = len(l_child) / len(parent)\n",
    "#         weight_r = len(r_child) / len(parent)\n",
    "#         if mode==\"gini\":\n",
    "#             gain = self.gini_index(parent) - (weight_l*self.gini_index(l_child) + weight_r*self.gini_index(r_child))\n",
    "#         else:\n",
    "#             gain = self.entropy(parent) - (weight_l*self.entropy(l_child) + weight_r*self.entropy(r_child))\n",
    "#         return gain\n",
    "    \n",
    "#     def entropy(self, y):\n",
    "#         ''' function to compute entropy '''\n",
    "        \n",
    "#         class_labels = np.unique(y)\n",
    "#         entropy = 0\n",
    "#         for cls in class_labels:\n",
    "#             p_cls = len(y[y == cls]) / len(y)\n",
    "#             entropy += -p_cls * np.log2(p_cls)\n",
    "#         return entropy\n",
    "    \n",
    "#     def gini_index(self, y):\n",
    "#         ''' function to compute gini index '''        \n",
    "#         class_labels = np.unique(y)\n",
    "#         gini = 0\n",
    "#         for cls in class_labels:\n",
    "#             p_cls = len(y[y == cls]) / len(y)\n",
    "#             gini += p_cls**2\n",
    "#         return 1 - gini\n",
    "        \n",
    "#     def calculate_leaf_value(self, Y):\n",
    "#         ''' function to compute leaf node '''\n",
    "        \n",
    "#         Y = list(Y)\n",
    "#         return max(Y, key=Y.count)\n",
    "    \n",
    "#     def print_tree(self, tree=None, indent=\" \"):\n",
    "#         ''' function to print the tree '''\n",
    "        \n",
    "#         if not tree:\n",
    "#             tree = self.root\n",
    "\n",
    "#         if tree.value is not None:\n",
    "#             print(tree.value)\n",
    "\n",
    "#         else:\n",
    "#             print(\"X_\"+str(tree.feature_index), \"<=\", tree.threshold, \"?\", tree.info_gain)\n",
    "#             print(\"%sleft:\" % (indent), end=\"\")\n",
    "#             self.print_tree(tree.left, indent + indent)\n",
    "#             print(\"%sright:\" % (indent), end=\"\")\n",
    "#             self.print_tree(tree.right, indent + indent)\n",
    "    \n",
    "#     def fit(self, X, Y):\n",
    "#         ''' function to train the tree '''        \n",
    "#         dataset = np.concatenate((X, Y), axis=1)\n",
    "#         self.root = self.build_tree(dataset)\n",
    "    \n",
    "#     def predict(self, X):\n",
    "#         ''' function to predict new dataset '''\n",
    "        \n",
    "#         preditions = [self.make_prediction(x, self.root) for x in X]\n",
    "#         return preditions\n",
    "    \n",
    "#     def make_prediction(self, x, tree):\n",
    "#         ''' function to predict a single data point '''\n",
    "        \n",
    "#         if tree.value!=None: return tree.value\n",
    "#         feature_val = x[tree.feature_index]\n",
    "#         if feature_val<=tree.threshold:\n",
    "#             return self.make_prediction(x, tree.left)\n",
    "#         else:\n",
    "#             return self.make_prediction(x, tree.right)"
   ]
  },
  {
   "cell_type": "code",
   "execution_count": null,
   "id": "25912443-9095-4de8-ae2f-90f20c434ceb",
   "metadata": {},
   "outputs": [],
   "source": [
    "X = df.drop(columns=['playlist_genre'])\n",
    "Y = df['playlist_genre']\n",
    "from sklearn.model_selection import train_test_split\n",
    "X_train, X_test, Y_train, Y_test = train_test_split(X, Y, test_size=0.3, random_state=42)"
   ]
  },
  {
   "cell_type": "code",
   "execution_count": null,
   "id": "24c67ff2-c767-4f26-9108-a0e68d7bdf58",
   "metadata": {},
   "outputs": [],
   "source": [
    "# classifier = DecisionTreeClassifier(min_samples_split=3, max_depth=3)\n",
    "# Y_train_array = Y_train.to_numpy()\n",
    "# Y_train_reshaped=Y_train_array.reshape(-1,1)\n",
    "# # Y_train_reshaped2=Y_train_reshaped.reshape(-1,1)\n",
    "# classifier.fit(X_train,Y_train_reshaped)\n",
    "# classifier.print_tree()\n",
    "dt = DecisionTreeClassifier(max_depth=10)\n",
    "dt.fit(X_train, Y_train)\n",
    "Y_pred = dt.predict(X_test)\n",
    "accuracy_dt=accuracy_score(Y_test,Y_pred)\n",
    "print(accuracy_dt)"
   ]
  },
  {
   "cell_type": "code",
   "execution_count": null,
   "id": "21f612ad-303c-488e-8099-d148dede1178",
   "metadata": {},
   "outputs": [],
   "source": [
    "print(X_train.shape)"
   ]
  },
  {
   "cell_type": "code",
   "execution_count": null,
   "id": "47b14850-2da0-4986-8781-f877bb532a54",
   "metadata": {},
   "outputs": [],
   "source": [
    "print(Y_train_reshaped.shape)"
   ]
  },
  {
   "cell_type": "code",
   "execution_count": null,
   "id": "a3299909-c854-43a0-b3a8-8ad43348f050",
   "metadata": {},
   "outputs": [],
   "source": [
    "Y_pred = classifier.predict(X_test) \n",
    "from sklearn.metrics import accuracy_score\n",
    "accuracy_score(Y_test, Y_pred)"
   ]
  },
  {
   "cell_type": "code",
   "execution_count": null,
   "id": "f688bd54-71dc-4ef0-9206-e388f7171f16",
   "metadata": {},
   "outputs": [],
   "source": [
    "print(X1_train.dtypes)\n"
   ]
  },
  {
   "cell_type": "code",
   "execution_count": null,
   "id": "3cfd225f-9a8f-4453-8b29-a26a2297551a",
   "metadata": {},
   "outputs": [],
   "source": [
    "value_counts = df['track_id'].value_counts()\n",
    "\n",
    "# Filter values that occur more than once\n",
    "duplicate_counts = value_counts[value_counts > 1]\n",
    "\n",
    "# Display the counts of duplicate values\n",
    "print(\"Counts of duplicate values in 'column_name':\")\n",
    "print(duplicate_counts)"
   ]
  },
  {
   "cell_type": "code",
   "execution_count": null,
   "id": "7dd76cb4-4e4c-4daf-a668-917b6d39f572",
   "metadata": {},
   "outputs": [],
   "source": [
    "value_counts = df['track_artist'].value_counts()\n",
    "\n",
    "# Filter values that occur more than once\n",
    "duplicate_counts = value_counts[value_counts > 1]\n",
    "\n",
    "# Display the counts of duplicate values\n",
    "print(\"Counts of duplicate values in 'column_name':\")\n",
    "print(duplicate_counts)"
   ]
  },
  {
   "cell_type": "code",
   "execution_count": null,
   "id": "8b05f302-dd67-40cb-a33d-f0d270a201bf",
   "metadata": {},
   "outputs": [],
   "source": [
    "value_counts = df['track_album_name'].value_counts()\n",
    "\n",
    "# Filter values that occur more than once\n",
    "duplicate_counts = value_counts[value_counts > 1]\n",
    "\n",
    "# Display the counts of duplicate values\n",
    "print(\"Counts of duplicate values in 'column_name':\")\n",
    "print(duplicate_counts)"
   ]
  },
  {
   "cell_type": "code",
   "execution_count": null,
   "id": "81e63907-ce84-4e92-9619-487a47e1394a",
   "metadata": {},
   "outputs": [],
   "source": [
    "df_dropped = df.drop(columns=['track_id', 'track_name','track_artist','track_album_id','track_album_name','track_album_release_date','duration_ms','playlist_id','mode'])\n",
    "df_dropped.head(10)"
   ]
  },
  {
   "cell_type": "code",
   "execution_count": null,
   "id": "7bea58ab-dac0-4f35-8b32-681d8db69626",
   "metadata": {},
   "outputs": [],
   "source": [
    "filtered_df = df[(df['playlist_genre'] == 'pop') & (df['playlist_name'] == 'Pop Remix')]\n",
    "filtered_df2 = df[(df['playlist_genre'] != 'pop') & (df['playlist_name'] == 'Pop Remix')]\n",
    "# Count the number of rows in the filtered DataFrame\n",
    "count = filtered_df.shape[0]\n",
    "count2 = filtered_df2.shape[0]\n",
    "unique_values = df['playlist_name'].unique()\n",
    "count3=unique_values.shape[0]\n",
    "unique_values_subgenre = df['playlist_subgenre'].unique()\n",
    "count_subgenre=unique_values_subgenre.shape[0]\n",
    "print(unique_values_subgenre)\n",
    "print(count_subgenre)\n",
    "print(unique_values)\n",
    "print(count)\n",
    "print(count2)\n",
    "print(count3)"
   ]
  },
  {
   "cell_type": "code",
   "execution_count": null,
   "id": "e3d91d97-1044-40aa-aa83-6f24d8a1e14a",
   "metadata": {},
   "outputs": [],
   "source": [
    "for i in range(0,449):\n",
    "    df_dropped['playlist_name']=df_dropped['playlist_name'].replace(unique_values[i],i)\n",
    "for i in range(0,24):\n",
    "    df_dropped['playlist_subgenre']=df_dropped['playlist_subgenre'].replace(unique_values_subgenre[i],i)\n",
    "df_dropped.head(10)    "
   ]
  },
  {
   "cell_type": "code",
   "execution_count": null,
   "id": "700d0727-a425-46b6-8449-f38e0be50036",
   "metadata": {},
   "outputs": [],
   "source": [
    "unique_values_genre = df['playlist_genre'].unique()\n",
    "count_genre=unique_values_genre.shape[0]\n",
    "print(count_genre)"
   ]
  },
  {
   "cell_type": "code",
   "execution_count": null,
   "id": "efece0ff-1799-42b2-a217-1e2a862f3e77",
   "metadata": {},
   "outputs": [],
   "source": [
    "for i in range(0,6):\n",
    "    df_dropped['playlist_genre']=df_dropped['playlist_genre'].replace(unique_values_genre[i],i)\n",
    "df_dropped.head(10)"
   ]
  },
  {
   "cell_type": "code",
   "execution_count": null,
   "id": "638a742a-9f02-48ab-96cf-0df03d64d9d4",
   "metadata": {},
   "outputs": [],
   "source": [
    "df_dropped2=df_dropped.drop(columns='playlist_subgenre')\n",
    "df_dropped2.head()"
   ]
  },
  {
   "cell_type": "code",
   "execution_count": null,
   "id": "308d0782-d40f-43f3-a39d-24e444623209",
   "metadata": {},
   "outputs": [],
   "source": [
    "X1=df_dropped2.drop(columns=['playlist_genre'])\n",
    "y1=df_dropped2['playlist_genre']\n",
    "X1_train,X1_test,y1_train,y1_test=train_test_split(X1,y1,test_size=0.3)"
   ]
  },
  {
   "cell_type": "code",
   "execution_count": null,
   "id": "a38a4178-2f9f-4534-966d-7f881dbb8b0f",
   "metadata": {},
   "outputs": [],
   "source": [
    "rf = RandomForestClassifier(n_estimators=100)\n",
    "\n",
    "# Fit the model to the data\n",
    "rf.fit(X1_train, y1_train)"
   ]
  },
  {
   "cell_type": "code",
   "execution_count": null,
   "id": "04a86c03-1e0d-44c8-ad51-9329530a8933",
   "metadata": {},
   "outputs": [],
   "source": [
    "y_pred = rf.predict(X1_test)\n",
    "accuracy=accuracy_score(y1_test,y_pred)\n",
    "print(accuracy)"
   ]
  },
  {
   "cell_type": "code",
   "execution_count": null,
   "id": "2d622e1d-1668-43e6-ae29-d47339edefee",
   "metadata": {},
   "outputs": [],
   "source": [
    "X = df_dropped2.drop(columns=['playlist_genre'])\n",
    "Y = df_dropped2['playlist_genre']\n",
    "from sklearn.model_selection import train_test_split\n",
    "X_train, X_test, Y_train, Y_test = train_test_split(X, Y, test_size=0.3, random_state=42)"
   ]
  },
  {
   "cell_type": "code",
   "execution_count": null,
   "id": "a00170c9-4eda-4b04-af4c-343e1071d25a",
   "metadata": {},
   "outputs": [],
   "source": [
    "dt = DecisionTreeClassifier(max_depth=3)\n",
    "dt.fit(X, Y)\n",
    "Y_pred = dt.predict(X_test)\n",
    "accuracy_dt=accuracy_score(Y_test,Y_pred)\n",
    "print(accuracy_dt)"
   ]
  }
 ],
 "metadata": {
  "kernelspec": {
   "display_name": "Python 3 (ipykernel)",
   "language": "python",
   "name": "python3"
  },
  "language_info": {
   "codemirror_mode": {
    "name": "ipython",
    "version": 3
   },
   "file_extension": ".py",
   "mimetype": "text/x-python",
   "name": "python",
   "nbconvert_exporter": "python",
   "pygments_lexer": "ipython3",
   "version": "3.11.0"
  }
 },
 "nbformat": 4,
 "nbformat_minor": 5
}
