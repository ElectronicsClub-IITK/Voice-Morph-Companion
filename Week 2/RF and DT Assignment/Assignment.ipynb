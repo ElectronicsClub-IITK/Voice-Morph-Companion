{
  "cells": [
    {
      "cell_type": "markdown",
      "metadata": {
        "id": "GnrXSGbwYwJH"
      },
      "source": [
        "# Random Forests and Decision Trees\n",
        "- Classify the Spotify.csv dataset\n",
        "- Predict the Genre\n",
        "- The dataset has 23 Columns and The Output feature is **playlist_genre** so all others can be used as input features. Decide on what can be used and what cannot be used.\n",
        "- Do the Preprocessing below\n",
        "- Do 70:30 Train test split"
      ]
    },
    {
      "cell_type": "code",
      "execution_count": 1,
      "metadata": {
        "id": "pPYAXwljYwJJ",
        "outputId": "5079d5f0-f302-41e0-c5cb-4e6d25388cf5",
        "colab": {
          "base_uri": "https://localhost:8080/"
        }
      },
      "outputs": [
        {
          "output_type": "stream",
          "name": "stdout",
          "text": [
            "         track_popularity                                     track_album_id  \\\n",
            "0  6f807x0ima9a1j3VPbc7VN  I Don't Care (with Justin Bieber) - Loud Luxur...   \n",
            "1  0r7CVbZTWZgbTCYdfa2P31                    Memories - Dillon Francis Remix   \n",
            "2  1z1Hg7Vb0AhHDiEmnDE79l                    All the Time - Don Diablo Remix   \n",
            "3  75FpbthrwQmzHlBJLuGdC7                  Call You Mine - Keanu Silva Remix   \n",
            "4  1e8PAfcKUYoKkxPhrHqw4x            Someone You Loved - Future Humans Remix   \n",
            "\n",
            "   track_album_name  track_album_release_date           playlist_name  \\\n",
            "0        Ed Sheeran                        66  2oCs0DGTsRO98Gh5ZSl2Cx   \n",
            "1          Maroon 5                        67  63rPSO264uRjW1X5E6cWv6   \n",
            "2      Zara Larsson                        70  1HoSmj2eLcsrR0vE9gThr4   \n",
            "3  The Chainsmokers                        60  1nqYsOef1yKKuGOVchbsk6   \n",
            "4     Lewis Capaldi                        69  7m7vv9wlQ4i0LFuJiE2zsQ   \n",
            "\n",
            "                                         playlist_id playlist_genre  \\\n",
            "0  I Don't Care (with Justin Bieber) [Loud Luxury...     2019-06-14   \n",
            "1                    Memories (Dillon Francis Remix)     2019-12-13   \n",
            "2                    All the Time (Don Diablo Remix)     2019-07-05   \n",
            "3                        Call You Mine - The Remixes     2019-07-19   \n",
            "4            Someone You Loved (Future Humans Remix)     2019-03-05   \n",
            "\n",
            "  playlist_subgenre            danceability energy  ... speechiness  \\\n",
            "0         Pop Remix  37i9dQZF1DXcZDD7cfEKhW    pop  ...           6   \n",
            "1         Pop Remix  37i9dQZF1DXcZDD7cfEKhW    pop  ...          11   \n",
            "2         Pop Remix  37i9dQZF1DXcZDD7cfEKhW    pop  ...           1   \n",
            "3         Pop Remix  37i9dQZF1DXcZDD7cfEKhW    pop  ...           7   \n",
            "4         Pop Remix  37i9dQZF1DXcZDD7cfEKhW    pop  ...           1   \n",
            "\n",
            "   acousticness  insttrack_id  track_name  track_artist  rumentalness  \\\n",
            "0        -2.634             1      0.0583        0.1020      0.000000   \n",
            "1        -4.969             1      0.0373        0.0724      0.004210   \n",
            "2        -3.432             0      0.0742        0.0794      0.000023   \n",
            "3        -3.778             1      0.1020        0.0287      0.000009   \n",
            "4        -4.672             1      0.0359        0.0803      0.000000   \n",
            "\n",
            "   liveness  valence    tempo  duration_ms  \n",
            "0    0.0653    0.518  122.036       194754  \n",
            "1    0.3570    0.693   99.972       162600  \n",
            "2    0.1100    0.613  124.008       176616  \n",
            "3    0.2040    0.277  121.956       169093  \n",
            "4    0.0833    0.725  123.976       189052  \n",
            "\n",
            "[5 rows x 23 columns]\n"
          ]
        }
      ],
      "source": [
        "import pandas as pd\n",
        "from sklearn.model_selection import train_test_split\n",
        "df = pd.read_csv('spotify.csv')\n",
        "print(df.head())\n",
        "#preprocess\n",
        "y = df['energy']\n",
        "features = [\"loudness\", \"mode\", \"speechiness\", \"acousticness\", \"insttrack_id\", \"track_name\", \"track_artist\", \"rumentalness\", \"liveness\", \"valence\", \"tempo\", \"duration_ms\", \"track_album_release_date\"]\n",
        "df[features] = df[features].fillna(df[features].mean())\n",
        "X = df[features]\n",
        "#split\n",
        "X_train, X_test, Y_train, Y_test = train_test_split(X, y, test_size=0.3, random_state=42)"
      ]
    },
    {
      "cell_type": "markdown",
      "metadata": {
        "id": "Mswhcef5YwJJ"
      },
      "source": [
        "## Frame a Decision Tree Model\n",
        "- Use Any Parameters\n",
        "- You can use any library"
      ]
    },
    {
      "cell_type": "code",
      "execution_count": 2,
      "metadata": {
        "id": "Jfpc03JUYwJJ"
      },
      "outputs": [],
      "source": [
        "from sklearn.tree import DecisionTreeClassifier\n",
        "\n",
        "clf_tree = DecisionTreeClassifier(criterion='gini', max_depth=10, random_state=42)\n",
        "\n",
        "clf_tree.fit(X_train, Y_train)\n",
        "dt_pred = clf_tree.predict(X_test)"
      ]
    },
    {
      "cell_type": "markdown",
      "metadata": {
        "id": "Eiv-mkI3YwJK"
      },
      "source": [
        "## Frame a Random Forests Model\n",
        "- Use Any Parameters\n",
        "- You can use any library"
      ]
    },
    {
      "cell_type": "code",
      "execution_count": 3,
      "metadata": {
        "id": "TwS9Ot2sYwJK"
      },
      "outputs": [],
      "source": [
        "from sklearn.ensemble import RandomForestClassifier\n",
        "\n",
        "clf_forest = RandomForestClassifier(n_estimators=300, criterion='gini', max_depth=10, random_state=42)\n",
        "\n",
        "clf_forest.fit(X_train, Y_train)\n",
        "rf_pred = clf_tree.predict(X_test)"
      ]
    },
    {
      "cell_type": "markdown",
      "metadata": {
        "id": "A-oj3GWQYwJK"
      },
      "source": [
        "## Train the Models and Report the Accuracy"
      ]
    },
    {
      "cell_type": "code",
      "execution_count": 4,
      "metadata": {
        "id": "-vYPwjUkYwJK",
        "outputId": "dc77dc1e-07e6-4df1-dee0-e3d772f95467",
        "colab": {
          "base_uri": "https://localhost:8080/"
        }
      },
      "outputs": [
        {
          "output_type": "stream",
          "name": "stdout",
          "text": [
            "Decision Tree Accuracy: 0.47411167512690355\n",
            "Random Forest Accuracy: 0.47411167512690355\n"
          ]
        }
      ],
      "source": [
        "from sklearn.metrics import accuracy_score\n",
        "\n",
        "dt_accuracy = accuracy_score(Y_test, dt_pred)\n",
        "print(\"Decision Tree Accuracy:\", dt_accuracy)\n",
        "\n",
        "rf_accuracy = accuracy_score(Y_test, rf_pred)\n",
        "print(\"Random Forest Accuracy:\", rf_accuracy)"
      ]
    }
  ],
  "metadata": {
    "language_info": {
      "name": "python"
    },
    "colab": {
      "provenance": []
    },
    "kernelspec": {
      "name": "python3",
      "display_name": "Python 3"
    }
  },
  "nbformat": 4,
  "nbformat_minor": 0
}