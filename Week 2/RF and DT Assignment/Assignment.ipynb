{
  "cells": [
    {
      "cell_type": "markdown",
      "metadata": {
        "id": "view-in-github",
        "colab_type": "text"
      },
      "source": [
        "<a href=\"https://colab.research.google.com/github/kshitij-bhardwaj/Voice-Morph-Companion/blob/kshitij-bhardwaj/Week%202/RF%20and%20DT%20Assignment/Assignment.ipynb\" target=\"_parent\"><img src=\"https://colab.research.google.com/assets/colab-badge.svg\" alt=\"Open In Colab\"/></a>"
      ]
    },
    {
      "cell_type": "markdown",
      "metadata": {
        "id": "GnrXSGbwYwJH"
      },
      "source": [
        "# Random Forests and Decision Trees\n",
        "- Classify the Spotify.csv dataset\n",
        "- Predict the Genre\n",
        "- The dataset has 23 Columns and The Output feature is **playlist_genre** so all others can be used as input features. Decide on what can be used and what cannot be used.\n",
        "- Do the Preprocessing below\n",
        "- Do 70:30 Train test split"
      ]
    },
    {
      "cell_type": "code",
      "execution_count": 50,
      "metadata": {
        "id": "pPYAXwljYwJJ"
      },
      "outputs": [],
      "source": [
        "import pandas as pd\n",
        "from sklearn.model_selection import train_test_split\n",
        "df = pd.read_csv('spotify Edited.csv')\n",
        "#preprocess\n",
        "df = pd.get_dummies(df, columns = [ 'playlist_name', \"playlist_id\", \"track_artist\"])\n",
        "y = df['playlist_genre']\n",
        "features = [\"danceability\",\"energy\",\"key\",\"loudness\", \"mode\", \"speechiness\", \"acousticness\", \"instrumentalness\", \"liveness\", \"valence\", \"tempo\", \"duration_ms\", \"track_popularity\"]\n",
        "df[features] = df[features].fillna(df[features].mean())\n",
        "X = df.drop([\"track_id\", \"track_name\", \"track_album_id\", \"track_album_name\", \"track_album_release_date\", \"playlist_genre\", \"playlist_subgenre\"], axis = 1)\n",
        "#split\n",
        "X_train, X_test, Y_train, Y_test = train_test_split(X, y, test_size=0.3, random_state=42)"
      ]
    },
    {
      "cell_type": "markdown",
      "metadata": {
        "id": "Mswhcef5YwJJ"
      },
      "source": [
        "## Frame a Decision Tree Model\n",
        "- Use Any Parameters\n",
        "- You can use any library"
      ]
    },
    {
      "cell_type": "code",
      "execution_count": 62,
      "metadata": {
        "id": "Jfpc03JUYwJJ"
      },
      "outputs": [],
      "source": [
        "from sklearn.tree import DecisionTreeClassifier\n",
        "\n",
        "clf_tree = DecisionTreeClassifier(criterion='gini', max_depth=100, random_state=42)\n",
        "\n",
        "clf_tree.fit(X_train, Y_train)\n",
        "dt_pred = clf_tree.predict(X_test)"
      ]
    },
    {
      "cell_type": "markdown",
      "metadata": {
        "id": "Eiv-mkI3YwJK"
      },
      "source": [
        "## Frame a Random Forests Model\n",
        "- Use Any Parameters\n",
        "- You can use any library"
      ]
    },
    {
      "cell_type": "code",
      "execution_count": 52,
      "metadata": {
        "id": "TwS9Ot2sYwJK"
      },
      "outputs": [],
      "source": [
        "from sklearn.ensemble import RandomForestClassifier\n",
        "\n",
        "clf_forest = RandomForestClassifier(n_estimators=100, criterion='gini', max_depth=50, random_state=42)\n",
        "\n",
        "clf_forest.fit(X_train, Y_train)\n",
        "rf_pred = clf_forest.predict(X_test)"
      ]
    },
    {
      "cell_type": "markdown",
      "metadata": {
        "id": "A-oj3GWQYwJK"
      },
      "source": [
        "## Train the Models and Report the Accuracy"
      ]
    },
    {
      "cell_type": "code",
      "execution_count": 63,
      "metadata": {
        "colab": {
          "base_uri": "https://localhost:8080/"
        },
        "id": "-vYPwjUkYwJK",
        "outputId": "08916ba2-16bd-4deb-bec6-2156b59720be"
      },
      "outputs": [
        {
          "output_type": "stream",
          "name": "stdout",
          "text": [
            "Decision Tree Accuracy: 0.5676142131979696\n",
            "Random Forest Accuracy: 0.8953299492385787\n"
          ]
        }
      ],
      "source": [
        "from sklearn.metrics import accuracy_score\n",
        "\n",
        "dt_accuracy = accuracy_score(Y_test, dt_pred)\n",
        "print(\"Decision Tree Accuracy:\", dt_accuracy)\n",
        "\n",
        "rf_accuracy = accuracy_score(Y_test, rf_pred)\n",
        "print(\"Random Forest Accuracy:\", rf_accuracy)"
      ]
    }
  ],
  "metadata": {
    "language_info": {
      "name": "python"
    },
    "colab": {
      "provenance": [],
      "include_colab_link": true
    },
    "kernelspec": {
      "name": "python3",
      "display_name": "Python 3"
    }
  },
  "nbformat": 4,
  "nbformat_minor": 0
}