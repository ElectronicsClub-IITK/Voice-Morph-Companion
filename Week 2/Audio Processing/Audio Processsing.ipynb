{
 "cells": [
  {
   "cell_type": "markdown",
   "id": "c754c6a9",
   "metadata": {
    "papermill": {
     "duration": 0.026501,
     "end_time": "2022-04-04T11:33:30.876756",
     "exception": false,
     "start_time": "2022-04-04T11:33:30.850255",
     "status": "completed"
    },
    "tags": []
   },
   "source": [
    "# Audio Processing in Python\n",
    "\n"
   ]
  },
  {
   "cell_type": "markdown",
   "id": "c9f8bf98",
   "metadata": {
    "papermill": {
     "duration": 0.020998,
     "end_time": "2022-04-04T11:33:30.918898",
     "exception": false,
     "start_time": "2022-04-04T11:33:30.897900",
     "status": "completed"
    },
    "tags": []
   },
   "source": [
    "# Some Terminologies\n",
    "\n",
    "Before starting, let us understand some terminologies related to audio and signal processing which will help in understanding and following this notebook in a better way.\n",
    "\n",
    "* Analog speech signal : The speech which usually is uttered by humans and is propogated through air.\n",
    "* Digital speech signal : The speech (in terms of samples) after performing analog-to-digital conversion using an ADC device. In this form, speech signal is in form of digitized samples.\n",
    "* Frequency of a signal : The number of cycles a signal repeats in 1 second duration.\n",
    "* Amplitude of a signal : It is related to loudness of speech (for speech signal). Depending on the type of the signal, it can be energy, voltage etc."
   ]
  },
  {
   "cell_type": "markdown",
   "id": "de6b6215",
   "metadata": {
    "papermill": {
     "duration": 0.040062,
     "end_time": "2022-04-04T11:33:47.531619",
     "exception": false,
     "start_time": "2022-04-04T11:33:47.491557",
     "status": "completed"
    },
    "tags": []
   },
   "source": [
    "### Processing a Noisy and Clean Signal\n",
    "\n",
    "- There are two noisy and clean signals in the same folder\n",
    "- Generate MFCC of both the Signals and report the differences "
   ]
  },
  {
   "cell_type": "code",
   "execution_count": null,
   "id": "2225e5be",
   "metadata": {},
   "outputs": [],
   "source": []
  },
  {
   "cell_type": "markdown",
   "id": "1cd5d44c",
   "metadata": {},
   "source": [
    "### Trimming and Processing the Signal \n",
    "- The >Example.wav file contains is of a very large length. \n",
    "- Plot the MFCC\n",
    "- Trim the first 4 Seconds of Audio and plot the MFCC \n",
    "- Observe the Changes\n",
    "\n"
   ]
  },
  {
   "cell_type": "code",
   "execution_count": null,
   "id": "df3d1f19",
   "metadata": {},
   "outputs": [],
   "source": []
  }
 ],
 "metadata": {
  "kernelspec": {
   "display_name": "Python 3",
   "language": "python",
   "name": "python3"
  },
  "language_info": {
   "codemirror_mode": {
    "name": "ipython",
    "version": 3
   },
   "file_extension": ".py",
   "mimetype": "text/x-python",
   "name": "python",
   "nbconvert_exporter": "python",
   "pygments_lexer": "ipython3",
   "version": "3.9.9"
  },
  "papermill": {
   "default_parameters": {},
   "duration": 33.313169,
   "end_time": "2022-04-04T11:33:51.725833",
   "environment_variables": {},
   "exception": null,
   "input_path": "__notebook__.ipynb",
   "output_path": "__notebook__.ipynb",
   "parameters": {},
   "start_time": "2022-04-04T11:33:18.412664",
   "version": "2.3.3"
  }
 },
 "nbformat": 4,
 "nbformat_minor": 5
}
