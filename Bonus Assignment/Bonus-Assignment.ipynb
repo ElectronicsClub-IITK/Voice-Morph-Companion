{
 "cells": [
  {
   "cell_type": "markdown",
   "metadata": {},
   "source": [
    "# Bonus Assignment 1\n",
    "\n",
    "This is a Bonus Assignment try to complete all other Assignments before you reach here \n",
    "\n",
    "Try First Attempting Question 2 and then Question 1 \n"
   ]
  },
  {
   "cell_type": "markdown",
   "metadata": {},
   "source": [
    "# Question 1\n",
    "Solve this question on Kaggle! \n",
    "Download the notebook and submit it separately along with the other questions.\n",
    "\n",
    "https://www.kaggle.com/competitions/house-prices-advanced-regression-techniques/overview\n",
    "\n",
    "Use everything that you have learnt so far.\n",
    "\n",
    "Analyse the data. Drop, scale or normalize features. Merge features if they correlated to make some meaningful features. \n",
    "\n",
    "Try out all the regression models. Use cross validation to find best parameters for each model."
   ]
  },
  {
   "cell_type": "code",
   "execution_count": 1,
   "metadata": {},
   "outputs": [
    {
     "name": "stdout",
     "output_type": "stream",
     "text": [
      "Correlation Matrix:\n",
      "\n",
      "SalePrice       1.000000\n",
      "OverallQual     0.790982\n",
      "GrLivArea       0.708624\n",
      "GarageCars      0.640409\n",
      "GarageArea      0.623431\n",
      "                  ...   \n",
      "FireplaceQu    -0.459605\n",
      "GarageFinish   -0.549247\n",
      "KitchenQual    -0.589189\n",
      "BsmtQual       -0.620886\n",
      "ExterQual      -0.636884\n",
      "Name: SalePrice, Length: 81, dtype: float64\n",
      "Linear Regression MSE: 920190718.9116274\n",
      "Linear Regression the best parameters:{}\n",
      "Linear Regression Predictions:[214672.60656409 201489.72427056 218396.08750263 ... 247066.24589047\n",
      " 155610.24477255 162193.19871499]\n",
      "Ridge Regression MSE: 1019326609.4753181\n",
      "Ridge Regression the best parameters:{'alpha': 10.0}\n",
      "Ridge Regression Predictions:[216114.70515544 201865.47973309 227194.58827161 ... 241763.76629659\n",
      " 147397.64633457 154982.86394882]\n",
      "Lasso Regression MSE: 912490162.52793\n",
      "Lasso Regression the best parameters:{'alpha': 10.0}\n",
      "Lasso Regression Predictions:[215295.34657705 202519.5400721  218610.16165355 ... 244547.87710363\n",
      " 148090.51537274 158105.77640598]\n",
      "Random Forest MSE: 117609395.44511938\n",
      "Random Forest the best parameters:{'n_estimators': 300}\n",
      "Random Forest Predictions:[207590.15333333 175714.62333333 221595.62666667 ... 260923.86333333\n",
      " 139093.7        147878.        ]\n",
      "Gradient Boosting MSE: 96442767.35639745\n",
      "Gradient Boosting the best parameters:{'n_estimators': 300}\n",
      "Gradient Boosting Predictions:[206164.26501779 175624.49596308 212092.69517214 ... 272636.67578395\n",
      " 145489.35027987 143717.49553134]\n"
     ]
    }
   ],
   "source": [
    "import pandas as pd\n",
    "import numpy as np\n",
    "from sklearn.preprocessing import LabelEncoder\n",
    "from sklearn.preprocessing import MinMaxScaler\n",
    "from sklearn.linear_model import LinearRegression, Ridge, Lasso\n",
    "from sklearn.tree import DecisionTreeRegressor\n",
    "from sklearn.ensemble import RandomForestRegressor, GradientBoostingRegressor\n",
    "from sklearn.model_selection import GridSearchCV\n",
    "from sklearn.metrics import mean_squared_error\n",
    "\n",
    "data = pd.read_csv(r'C:\\Users\\chand\\summer_proj_back files\\Week_1_submission\\Bonus Assignment\\train.csv')\n",
    "data_train = pd.read_csv(r'C:\\Users\\chand\\summer_proj_back files\\Week_1_submission\\Bonus Assignment\\train.csv')\n",
    "\n",
    "X = pd.DataFrame(data)\n",
    "df = pd.DataFrame(data_train)\n",
    "\n",
    "col_num = X.select_dtypes(include=['int','float']).columns.to_list()\n",
    "col_cat = X.select_dtypes(include=['object']).columns.to_list()\n",
    "\n",
    "df_col_num = df.select_dtypes(include=['int','float']).columns.to_list()\n",
    "df_col_cat = df.select_dtypes(include=['object']).columns.to_list()\n",
    "\n",
    "X_num = X[col_num]\n",
    "X_cat = X[col_cat]\n",
    "\n",
    "df_num = df[df_col_num]\n",
    "df_cat = df[df_col_cat]\n",
    "\n",
    "label = LabelEncoder()\n",
    "\n",
    "for col in X_cat.columns:\n",
    "    X_cat.loc[:, col] = label.fit_transform(X_cat[col])\n",
    "\n",
    "for col in df_cat.columns:\n",
    "    df_cat.loc[:, col] = label.fit_transform(df_cat[col])\n",
    "\n",
    "X = pd.concat([X_num, X_cat], axis=1)\n",
    "df = pd.concat([df_num, df_cat], axis=1)\n",
    "\n",
    "# 'SalePrice' is the column to be predicted \n",
    "for col in X.columns:\n",
    "    if X[col].isnull().any():\n",
    "        X[col] = X[col].fillna(X[col].median())\n",
    "\n",
    "for col in df.columns:\n",
    "    if df[col].isnull().any():\n",
    "        df[col] = df[col].fillna(df[col].median())\n",
    "\n",
    "correlation_matrix = X.corr()\n",
    "print(\"Correlation Matrix:\\n\")\n",
    "print(correlation_matrix['SalePrice'].sort_values(ascending=False))\n",
    "\n",
    "# Feature scaling\n",
    "x_train = X.drop('SalePrice', axis=1)\n",
    "y_train = X['SalePrice']\n",
    "x_test = df.drop('SalePrice', axis=1)\n",
    "y_test = df['SalePrice']\n",
    "\n",
    "col = x_train.columns.to_list()\n",
    "scaler = MinMaxScaler()\n",
    "x_train = scaler.fit_transform(x_train)\n",
    "x_test = scaler.fit_transform(x_test)\n",
    "x_train = pd.DataFrame(x_train, columns=col)\n",
    "x_test = pd.DataFrame(x_test, columns=col)\n",
    "\n",
    "models = {\n",
    "    'Linear Regression': LinearRegression(),\n",
    "    'Ridge Regression': Ridge(),\n",
    "    'Lasso Regression': Lasso(),\n",
    "    'Random Forest': RandomForestRegressor(),\n",
    "    'Gradient Boosting': GradientBoostingRegressor(),\n",
    "}\n",
    "param_grids = {\n",
    "    'Linear Regression': {},\n",
    "    'Ridge Regression': {'alpha': [0.1, 1.0, 10.0]}, \n",
    "    'Lasso Regression': {'alpha': [0.1, 1.0, 10.0]},  \n",
    "    'Random Forest': {'n_estimators': [100, 200, 300]},  \n",
    "    'Gradient Boosting': {'n_estimators': [100, 200, 300]},\n",
    "}\n",
    "\n",
    "for name, model in models.items():\n",
    "    param_grid = param_grids[name]\n",
    "    grid_search = GridSearchCV(model, param_grid, cv=5, scoring='neg_mean_squared_error')\n",
    "    grid_search.fit(x_train, y_train)\n",
    "    best_parameter = grid_search.best_params_\n",
    "    y_pred = grid_search.predict(x_test)\n",
    "    mse = mean_squared_error(y_test, y_pred)\n",
    "    print(f\"{name} MSE: {mse}\")\n",
    "    print(f\"{name} the best parameters:{best_parameter}\")\n",
    "    print(f\"{name} Predictions:{y_pred}\")\n",
    "\n"
   ]
  },
  {
   "cell_type": "markdown",
   "metadata": {},
   "source": [
    "# Question 2 : Regression using SVM and Tree Algorithms\n",
    "\n",
    "In this question, we will be using the **insurance.csv** file which contain information on insurance charges based on the following informations: age,sex,bmi,region,number of children and whether the person is a smoker or not. You need to predict the charges based on the information given.\n",
    "\n",
    "### 1. Load the data."
   ]
  },
  {
   "cell_type": "code",
   "execution_count": 2,
   "metadata": {},
   "outputs": [
    {
     "name": "stdout",
     "output_type": "stream",
     "text": [
      "      age     sex     bmi  children smoker     region      charges\n",
      "0      19  female  27.900         0    yes  southwest  16884.92400\n",
      "1      18    male  33.770         1     no  southeast   1725.55230\n",
      "2      28    male  33.000         3     no  southeast   4449.46200\n",
      "3      33    male  22.705         0     no  northwest  21984.47061\n",
      "4      32    male  28.880         0     no  northwest   3866.85520\n",
      "...   ...     ...     ...       ...    ...        ...          ...\n",
      "1333   50    male  30.970         3     no  northwest  10600.54830\n",
      "1334   18  female  31.920         0     no  northeast   2205.98080\n",
      "1335   18  female  36.850         0     no  southeast   1629.83350\n",
      "1336   21  female  25.800         0     no  southwest   2007.94500\n",
      "1337   61  female  29.070         0    yes  northwest  29141.36030\n",
      "\n",
      "[1338 rows x 7 columns]\n"
     ]
    }
   ],
   "source": [
    "import pandas as pd\n",
    "data = pd.read_csv(r'C:\\Users\\chand\\summer_proj_back files\\Week_1_submission\\Bonus Assignment\\insurance.csv')\n",
    "df = pd.DataFrame(data)\n",
    "print(df)"
   ]
  },
  {
   "cell_type": "markdown",
   "metadata": {},
   "source": [
    "### 2. Separate the numerical and categorical columns.\n",
    "### 3. Label Encode the categorical columns.\n",
    "### 4. Scale the numerical columns. (Scale the charges separately so that you can calculate errors afterwards.)"
   ]
  },
  {
   "cell_type": "code",
   "execution_count": 3,
   "metadata": {},
   "outputs": [
    {
     "name": "stdout",
     "output_type": "stream",
     "text": [
      "           age       bmi  children   charges\n",
      "0     0.021739  0.321227       0.0  0.251611\n",
      "1     0.000000  0.479150       0.2  0.009636\n",
      "2     0.217391  0.458434       0.6  0.053115\n",
      "3     0.326087  0.181464       0.0  0.333010\n",
      "4     0.304348  0.347592       0.0  0.043816\n",
      "...        ...       ...       ...       ...\n",
      "1333  0.695652  0.403820       0.6  0.151299\n",
      "1334  0.000000  0.429379       0.0  0.017305\n",
      "1335  0.000000  0.562012       0.0  0.008108\n",
      "1336  0.065217  0.264730       0.0  0.014144\n",
      "1337  0.934783  0.352704       0.0  0.447249\n",
      "\n",
      "[1338 rows x 4 columns]\n",
      "     sex smoker region\n",
      "0      0      1      3\n",
      "1      1      0      2\n",
      "2      1      0      2\n",
      "3      1      0      1\n",
      "4      1      0      1\n",
      "...   ..    ...    ...\n",
      "1333   1      0      1\n",
      "1334   0      0      0\n",
      "1335   0      0      2\n",
      "1336   0      0      3\n",
      "1337   0      1      1\n",
      "\n",
      "[1338 rows x 3 columns]\n",
      "        age       bmi  children   charges sex smoker region\n",
      "0  0.021739  0.321227       0.0  0.251611   0      1      3\n",
      "1  0.000000  0.479150       0.2  0.009636   1      0      2\n",
      "2  0.217391  0.458434       0.6  0.053115   1      0      2\n",
      "3  0.326087  0.181464       0.0  0.333010   1      0      1\n",
      "4  0.304348  0.347592       0.0  0.043816   1      0      1\n"
     ]
    }
   ],
   "source": [
    "df_numerical = df[['age','bmi','children','charges']]\n",
    "df_cat = df[['sex','smoker','region']]\n",
    "from sklearn.preprocessing import LabelEncoder\n",
    "from sklearn.preprocessing import MinMaxScaler\n",
    "scaler = MinMaxScaler()\n",
    "df_numerical = scaler.fit_transform(df_numerical)\n",
    "df_numerical = pd.DataFrame(df_numerical,columns=['age','bmi','children','charges'])\n",
    "lalen = LabelEncoder()\n",
    "for col in df_cat.columns:\n",
    "    \n",
    "    df_cat.loc[:,col] = lalen.fit_transform(df_cat[col])\n",
    "print(df_numerical)\n",
    "print(df_cat)\n",
    "df_m = pd.concat([df_numerical,df_cat],axis = 1)\n",
    "print(df_m.head())\n",
    "col = df_m.columns[3]\n",
    "\n",
    "X= df_m.drop(col,axis=1)\n",
    "y= df_m[col]\n"
   ]
  },
  {
   "cell_type": "markdown",
   "metadata": {},
   "source": [
    "### 5. Split the data."
   ]
  },
  {
   "cell_type": "markdown",
   "metadata": {},
   "source": [
    "### 6. Support Vector Regressor\n",
    "\n",
    "Here , you will use the SVR model from sklearn.svm and fit it on the training data. Then predict on the test data and calaculate MAE, MSE. But...\n",
    "\n",
    "The SVR class contains many hyperparameters, example : kernel can have the following values : linear, rbf, poly, sigmoid.\n",
    "\n",
    "Use **RandomizedSearchCV** from sklearn.model_selection , create a dictionary with keys 'kernel' and 'gamma' . As values of the keys, create a list of some possible values. Run a 3-fold cross validation test (cv=3) and find the best parameters. Then initiate the SVR model with those parameters."
   ]
  },
  {
   "cell_type": "code",
   "execution_count": 4,
   "metadata": {},
   "outputs": [],
   "source": [
    "from sklearn.model_selection import train_test_split\n",
    "x_train,x_test,y_train,y_test = train_test_split(X,y,random_state=42,test_size=0.2)\n"
   ]
  },
  {
   "cell_type": "code",
   "execution_count": 5,
   "metadata": {},
   "outputs": [
    {
     "name": "stdout",
     "output_type": "stream",
     "text": [
      "{'kernel': 'poly', 'gamma': 1}\n",
      "mean_absolute_error0.08427233568372929,mean_squared_error0.008712015849188008\n"
     ]
    }
   ],
   "source": [
    "from sklearn.svm import SVR\n",
    "from sklearn.model_selection import RandomizedSearchCV\n",
    "from sklearn.metrics import mean_absolute_error,mean_squared_error\n",
    "\n",
    "svr= SVR(gamma='')\n",
    "param_grid = {\n",
    "    'kernel' : ['linear','poly','sigmoid','rbf'],\n",
    "    'gamma' : ['auto','scale',1,0.1,2,0.01]\n",
    "}\n",
    "random_search = RandomizedSearchCV(svr,param_grid,cv=3,scoring='neg_mean_squared_error',random_state=42)\n",
    "random_search.fit(X,y)\n",
    "best_para = random_search.best_params_\n",
    "print(best_para)\n",
    "best_svr = SVR(gamma=best_para['gamma'],kernel=best_para['kernel'])\n",
    "best_svr.fit(x_train,y_train)\n",
    "y_predicted = best_svr.predict(x_test)\n",
    "mae = mean_absolute_error(y_test,y_predicted)\n",
    "mse = mean_squared_error(y_test,y_predicted)\n",
    "print(f\"mean_absolute_error{mae},mean_squared_error{mse}\")\n",
    "\n"
   ]
  }
 ],
 "metadata": {
  "kernelspec": {
   "display_name": "Python 3",
   "language": "python",
   "name": "python3"
  },
  "language_info": {
   "codemirror_mode": {
    "name": "ipython",
    "version": 3
   },
   "file_extension": ".py",
   "mimetype": "text/x-python",
   "name": "python",
   "nbconvert_exporter": "python",
   "pygments_lexer": "ipython3",
   "version": "3.12.0"
  }
 },
 "nbformat": 4,
 "nbformat_minor": 2
}
