{
  "cells": [
    {
      "cell_type": "markdown",
      "metadata": {
        "id": "view-in-github",
        "colab_type": "text"
      },
      "source": [
        "<a href=\"https://colab.research.google.com/github/kshitij-bhardwaj/Voice-Morph-Companion/blob/kshitij-bhardwaj/Week%201/Bonus%20Assignment/Bonus_Assignment.ipynb\" target=\"_parent\"><img src=\"https://colab.research.google.com/assets/colab-badge.svg\" alt=\"Open In Colab\"/></a>"
      ]
    },
    {
      "cell_type": "markdown",
      "metadata": {
        "id": "d9bwmuLUJGZh"
      },
      "source": [
        "# Bonus Assignment 1\n",
        "\n",
        "This is a Bonus Assignment try to complete all other Assignments before you reach here\n",
        "\n",
        "Try First Attempting Question 2 and then Question 1\n"
      ]
    },
    {
      "cell_type": "markdown",
      "metadata": {
        "id": "VyVv2oEIJGZi"
      },
      "source": [
        "# Question 1\n",
        "Solve this question on Kaggle!\n",
        "Download the notebook and submit it separately along with the other questions.\n",
        "\n",
        "https://www.kaggle.com/competitions/house-prices-advanced-regression-techniques/overview\n",
        "\n",
        "Use everything that you have learnt so far.\n",
        "\n",
        "Analyse the data. Drop, scale or normalize features. Merge features if they correlated to make some meaningful features.\n",
        "\n",
        "Try out all the regression models. Use cross validation to find best parameters for each model."
      ]
    },
    {
      "cell_type": "code",
      "execution_count": null,
      "metadata": {
        "id": "uUvaPWFnJGZj"
      },
      "outputs": [],
      "source": [
        "#in progress"
      ]
    },
    {
      "cell_type": "markdown",
      "metadata": {
        "id": "AueGelKKJGZj"
      },
      "source": [
        "# Question 2 : Regression using SVM and Tree Algorithms\n",
        "\n",
        "In this question, we will be using the **insurance.csv** file which contain information on insurance charges based on the following informations: age,sex,bmi,region,number of children and whether the person is a smoker or not. You need to predict the charges based on the information given.\n",
        "\n",
        "### 1. Load the data."
      ]
    },
    {
      "cell_type": "code",
      "execution_count": null,
      "metadata": {
        "id": "sKl7DYJ2JGZj"
      },
      "outputs": [],
      "source": [
        "import pandas as pd\n",
        "df = pd.read_csv(\"insurance.csv\")"
      ]
    },
    {
      "cell_type": "markdown",
      "metadata": {
        "id": "YWbTibLoJGZj"
      },
      "source": [
        "### 2. Separate the numerical and categorical columns.\n",
        "### 3. Label Encode the categorical columns.\n",
        "### 4. Scale the numerical columns. (Scale the charges separately so that you can calculate errors afterwards.)"
      ]
    },
    {
      "cell_type": "code",
      "execution_count": null,
      "metadata": {
        "id": "J_dP9jF3JGZj",
        "outputId": "4baf0af5-3866-48c4-fac2-d4ad8022216c",
        "colab": {
          "base_uri": "https://localhost:8080/"
        }
      },
      "outputs": [
        {
          "output_type": "stream",
          "name": "stdout",
          "text": [
            "           age       sex       bmi  children    smoker    region      charges  \\\n",
            "0    -1.438764 -1.010519 -0.453320 -0.908614  1.970587  1.343905  16884.92400   \n",
            "1    -1.509965  0.989591  0.509621 -0.078767 -0.507463  0.438495   1725.55230   \n",
            "2    -0.797954  0.989591  0.383307  1.580926 -0.507463  0.438495   4449.46200   \n",
            "3    -0.441948  0.989591 -1.305531 -0.908614 -0.507463 -0.466915  21984.47061   \n",
            "4    -0.513149  0.989591 -0.292556 -0.908614 -0.507463 -0.466915   3866.85520   \n",
            "...        ...       ...       ...       ...       ...       ...          ...   \n",
            "1333  0.768473  0.989591  0.050297  1.580926 -0.507463 -0.466915  10600.54830   \n",
            "1334 -1.509965 -1.010519  0.206139 -0.908614 -0.507463 -1.372326   2205.98080   \n",
            "1335 -1.509965 -1.010519  1.014878 -0.908614 -0.507463  0.438495   1629.83350   \n",
            "1336 -1.296362 -1.010519 -0.797813 -0.908614 -0.507463  1.343905   2007.94500   \n",
            "1337  1.551686 -1.010519 -0.261388 -0.908614  1.970587 -0.466915  29141.36030   \n",
            "\n",
            "      charges_scaled  \n",
            "0           0.298584  \n",
            "1          -0.953689  \n",
            "2          -0.728675  \n",
            "3           0.719843  \n",
            "4          -0.776802  \n",
            "...              ...  \n",
            "1333       -0.220551  \n",
            "1334       -0.914002  \n",
            "1335       -0.961596  \n",
            "1336       -0.930362  \n",
            "1337        1.311053  \n",
            "\n",
            "[1338 rows x 8 columns]\n"
          ]
        }
      ],
      "source": [
        "from sklearn.preprocessing import LabelEncoder, StandardScaler\n",
        "\n",
        "numerical_cols = [col for col in df.columns if df[col].dtype != 'object']\n",
        "categorical_cols = [col for col in df.columns if col not in numerical_cols]\n",
        "\n",
        "le = LabelEncoder()\n",
        "for col in categorical_cols:\n",
        "    df[col] = le.fit_transform(df[col])\n",
        "\n",
        "charges = df['charges']\n",
        "scaler_numerical = StandardScaler()\n",
        "numerical_cols.remove('charges')\n",
        "df[numerical_cols] = scaler_numerical.fit_transform(df[numerical_cols])\n",
        "\n",
        "scaler_charges = StandardScaler()\n",
        "charges_scaled = scaler_charges.fit_transform(charges.values.reshape(-1, 1))\n",
        "\n",
        "df['charges_scaled'] = charges_scaled\n",
        "\n",
        "print(df)\n"
      ]
    },
    {
      "cell_type": "markdown",
      "metadata": {
        "id": "KFp-i5q5JGZj"
      },
      "source": [
        "### 5. Split the data."
      ]
    },
    {
      "cell_type": "code",
      "execution_count": null,
      "metadata": {
        "id": "IApgYHD3JGZj",
        "colab": {
          "base_uri": "https://localhost:8080/"
        },
        "outputId": "ba830644-5749-4a9c-b5b7-52755efc7385"
      },
      "outputs": [
        {
          "output_type": "stream",
          "name": "stdout",
          "text": [
            "Training set shapes: X - (936, 7), y - (936,)\n",
            "Testing set shapes: X - (402, 7), y - (402,)\n"
          ]
        }
      ],
      "source": [
        "from sklearn.model_selection import train_test_split\n",
        "X_train, X_test, y_train, y_test = train_test_split(df.drop('charges', axis=1), df['charges'], test_size=0.3, random_state=42)\n",
        "\n",
        "print(f\"Training set shapes: X - {X_train.shape}, y - {y_train.shape}\")\n",
        "print(f\"Testing set shapes: X - {X_test.shape}, y - {y_test.shape}\")"
      ]
    },
    {
      "cell_type": "markdown",
      "metadata": {
        "id": "bZnCWOwsJGZk"
      },
      "source": [
        "### 6. Support Vector Regressor\n",
        "\n",
        "Here , you will use the SVR model from sklearn.svm and fit it on the training data. Then predict on the test data and calaculate MAE, MSE. But...\n",
        "\n",
        "The SVR class contains many hyperparameters, example : kernel can have the following values : linear, rbf, poly, sigmoid.\n",
        "\n",
        "Use **RandomizedSearchCV** from sklearn.model_selection , create a dictionary with keys 'kernel' and 'gamma' . As values of the keys, create a list of some possible values. Run a 3-fold cross validation test (cv=3) and find the best parameters. Then initiate the SVR model with those parameters."
      ]
    },
    {
      "cell_type": "code",
      "execution_count": null,
      "metadata": {
        "id": "mR-eCIe1JGZk",
        "colab": {
          "base_uri": "https://localhost:8080/"
        },
        "outputId": "c41f4deb-01f4-4387-e2dd-f16524dcb909"
      },
      "outputs": [
        {
          "output_type": "stream",
          "name": "stdout",
          "text": [
            "Best hyperparameters: {'kernel': 'linear', 'gamma': 0.001}\n",
            "Mean Absolute Error (MAE): 7324.0794\n",
            "Mean Squared Error (MSE): 131197650.4317\n"
          ]
        }
      ],
      "source": [
        "from sklearn.svm import SVR\n",
        "from sklearn.model_selection import RandomizedSearchCV, train_test_split\n",
        "from sklearn.metrics import mean_absolute_error, mean_squared_error\n",
        "import numpy as np\n",
        "param_dist = {\n",
        "    'kernel': ['linear', 'rbf'],\n",
        "    'gamma': np.logspace(-3, 3, 7)  # range of gamma values to explore (logarithmic scale)\n",
        "}\n",
        "\n",
        "random_search = RandomizedSearchCV(SVR(), param_distributions=param_dist, cv=3, n_iter=10, scoring='neg_mean_squared_error', random_state=42)\n",
        "\n",
        "random_search.fit(X_train, y_train)\n",
        "\n",
        "best_params = random_search.best_params_\n",
        "print(\"Best hyperparameters:\", best_params)\n",
        "\n",
        "svr_model = SVR(kernel=best_params['kernel'], gamma=best_params['gamma'])\n",
        "\n",
        "svr_model.fit(X_train, y_train)\n",
        "\n",
        "y_pred = svr_model.predict(X_test)\n",
        "mae = mean_absolute_error(y_test, y_pred)\n",
        "mse = mean_squared_error(y_test, y_pred)\n",
        "\n",
        "print(f\"Mean Absolute Error (MAE): {mae:.4f}\")\n",
        "print(f\"Mean Squared Error (MSE): {mse:.4f}\")\n"
      ]
    }
  ],
  "metadata": {
    "language_info": {
      "name": "python"
    },
    "colab": {
      "provenance": [],
      "include_colab_link": true
    },
    "kernelspec": {
      "name": "python3",
      "display_name": "Python 3"
    }
  },
  "nbformat": 4,
  "nbformat_minor": 0
}