{
 "cells": [
  {
   "cell_type": "markdown",
   "metadata": {
    "id": "Y5y_HbJiPKhA"
   },
   "source": [
    "# Linear Regression\n",
    "## Question 1\n",
    "Make a class called LinearRegression which provides two functions : fit and predict. Try to implement it from scratch. If stuck, refer to the examples folder."
   ]
  },
  {
   "cell_type": "code",
   "execution_count": 2,
   "metadata": {
    "id": "gzoG2XilPLFr"
   },
   "outputs": [],
   "source": [
    "import numpy as np\n",
    "class LinearRegression:\n",
    "    def __init__(self, learning_rate, epochs):\n",
    "        self.lr=learning_rate\n",
    "        self.epochs=epochs\n",
    "\n",
    "    def fit(self, X_train, y_train):\n",
    "        n_samples, n_features = X_train.shape\n",
    "        y_train=y_train.reshape(-1,1)\n",
    "        # init parameters\n",
    "        self.weights = np.zeros((n_features,1))\n",
    "        self.bias = np.zeros((1,1))\n",
    "\n",
    "        # gradient descent\n",
    "        for i in range(self.epochs):\n",
    "            delta= -(y_train-np.dot(X_train,self.weights)-self.bias)/n_samples\n",
    "            dw= np.dot(X_train.T,delta)\n",
    "            db= np.sum(delta).reshape(1,1)\n",
    "\n",
    "            #update weights and biases\n",
    "            self.weights-= self.lr * dw\n",
    "            self.bias-= self.lr* db\n",
    "\n",
    "    def predict(self, X_test):\n",
    "        y_predicted = np.dot(X_test,self.weights)+self.bias\n",
    "        print(self.weights, self.bias)\n",
    "        return y_predicted"
   ]
  },
  {
   "cell_type": "markdown",
   "metadata": {
    "id": "PsqoxNag7D3-",
    "jp-MarkdownHeadingCollapsed": true
   },
   "source": [
    "## Question 2\n",
    "\n",
    "Use the dataset https://www.kaggle.com/datasets/quantbruce/real-estate-price-prediction (*).\n",
    "1. Read it using pandas.\n",
    "2. Check for **null values**.\n",
    "3. For each of the columns (except the first and last), plot the column values in the X-axis against the last column of prices in the Y-axis.\n",
    "4. Remove the unwanted columns.\n",
    "5. Split the dataset into train and test data. Test data size = 25% of total dataset.\n",
    "6. **Normalize** the X_train and X_test using MinMaxScaler from sklearn.preprocessing.\n",
    "7. Fit the training data into the model created in question 1 and predict the testing data.\n",
    "8. Use **mean square error and R<sup>2</sup>** from sklearn.metrics as evaluation criterias.\n",
    "9. Fit the training data into the models of the same name provided by sklearn.linear_model and evaluate the predictions using MSE and R<sup>2</sup>.\n",
    "10. Tune the hyperparameters of your models (learning rate, epochs) to achieve losses close to that of the sklearn models.\n",
    "\n",
    "Note : (*) To solve this question, you may proceed in any of the following ways :\n",
    "1. Prepare the notebook in Kaggle, download it and submit it separately with the other questions.\n",
    "2. Download the dataset from kaggle. Upload it to the session storage in Colab.\n",
    "3. Use Colab data directly in Colab. [Refer here](https://www.kaggle.com/general/74235). For this, you need to create kaggle API token. Before submitting, hide or remove the API token."
   ]
  },
  {
   "cell_type": "code",
   "execution_count": null,
   "metadata": {
    "id": "8lupaMcr63QF"
   },
   "outputs": [],
   "source": []
  },
  {
   "cell_type": "markdown",
   "metadata": {
    "id": "dQ7lQpy-SYCq"
   },
   "source": [
    "# Logistic Regression\n",
    "## Question 3\n",
    "\n",
    "The breast cancer dataset is a binary classification dataset commonly used in machine learning tasks. It is available in scikit-learn (sklearn) as part of its datasets module.\n",
    "Here is an explanation of the breast cancer dataset's components:\n",
    "\n",
    "* Features (X):\n",
    "\n",
    " * The breast cancer dataset consists of 30 numeric features representing different characteristics of the FNA images. These features include mean, standard error, and worst (largest) values of various attributes such as radius, texture, smoothness, compactness, concavity, symmetry, fractal dimension, etc.\n",
    "\n",
    "* Target (y):\n",
    "\n",
    " * The breast cancer dataset is a binary classification problem, and the target variable (y) represents the diagnosis of the breast mass. It contains two classes:\n",
    "    * 0: Represents a malignant (cancerous) tumor.\n",
    "    * 1: Represents a benign (non-cancerous) tumor.\n",
    "\n",
    "Complete the code given below in place of the \"...\""
   ]
  },
  {
   "cell_type": "markdown",
   "metadata": {
    "id": "auipk-zBpmO-"
   },
   "source": [
    "1. Load the dataset from sklearn.datasets\n",
    "2. Separate out the X and Y columns.\n",
    "3. Normalize the X data using MinMaxScaler or StandardScaler.\n",
    "4. Create a train-test-split. Take any suitable test size."
   ]
  },
  {
   "cell_type": "code",
   "execution_count": null,
   "metadata": {
    "id": "0OyGNHNjFh13"
   },
   "outputs": [],
   "source": [
    "from sklearn.datasets import load_breast_cancer\n",
    "from sklearn.model_selection import train_test_split\n",
    "from sklearn.preprocessing import MinMaxScaler\n",
    "data = load_breast_cancer()\n",
    "X = data.data\n",
    "y = data.target\n",
    "scaler = MinMaxScaler()\n",
    "X_normalized = scaler.fit_transform(X)\n",
    "X_train, X_test, y_train, y_test = train_test_split(X_normalized, y, test_size=0.2, random_state=42)\n"
   ]
  },
  {
   "cell_type": "markdown",
   "metadata": {
    "id": "uM-SsSxpqF2o"
   },
   "source": [
    "5. Write code for the sigmoid function and Logistic regression.\n"
   ]
  },
  {
   "cell_type": "code",
   "execution_count": null,
   "metadata": {
    "id": "o81LA5MZFoTW"
   },
   "outputs": [],
   "source": [
    "def sigmoid(z):\n",
    "   \"...\"\n",
    "\n",
    "def sigmoid_derivative(z):\n",
    "    \"...\"\n",
    "\n",
    "class LogisticRegression:\n",
    "    def __init__(self, learning_rate, epochs):\n",
    "      #Initialise the hyperparameters of the model\n",
    "        self.lr = \"...\"\n",
    "        self.epochs = \"...\"\n",
    "\n",
    "    def fit(self, X, y):\n",
    "        n_samples, n_features = X.shape\n",
    "        y = y.reshape(-1, 1)\n",
    "        self.weights = \"...\"\n",
    "        self.bias = \"...\"\n",
    "\n",
    "        #Implement the GD algortihm\n",
    "        for _ in range(self.epochs):\n",
    "            z = \"...\"\n",
    "            y_pred = \"...\"\n",
    "\n",
    "            dw = \"...\"\n",
    "            db = \"...\"\n",
    "\n",
    "            self.weights -= \"...\"\n",
    "            self.bias -= \"...\"\n",
    "\n",
    "    def predict(self, X):\n",
    "      #Write the predict function\n",
    "        \"...\"\n",
    "        return y_pred"
   ]
  },
  {
   "cell_type": "markdown",
   "metadata": {
    "id": "Uo9LNRMzq4K-"
   },
   "source": [
    "6. Fit your model on the dataset and make predictions.\n",
    "7. Compare your model with the Sklearn Logistic Regression model. Try out all the different penalties.\n",
    "8. Print accuracy_score in each case using sklearn.metrics ."
   ]
  },
  {
   "cell_type": "code",
   "execution_count": null,
   "metadata": {
    "id": "DyGsTTOqFphf"
   },
   "outputs": [],
   "source": [
    "class sigmoid:\n",
    "    def sigmoid(z):\n",
    "        a=1.0/(1.0+ np.exp(-z))\n",
    "        return a\n",
    "    def derivative(self,z):\n",
    "        return self.sigmoid(z)*(1-self.sigmoid(z))\n",
    "\n",
    "class LogisticRegression:\n",
    "    def __init__(self, learning_rate, epochs):\n",
    "        self.lr=learning_rate\n",
    "        self.epochs=epochs\n",
    "\n",
    "    def fit(self, X, y):\n",
    "        n_samples, n_features = X.shape\n",
    "        y = y.reshape(-1, 1)\n",
    "        self.weights=np.random.randn(n_features,1)/np.sqrt(n_features)\n",
    "        self.bias= np.random.randn(1,1)\n",
    "\n",
    "        for i in range(self.epochs):\n",
    "            z = np.dot(X,self.weights) + self.bias\n",
    "            y_pred = sigmoid(z)\n",
    "            #cross-entropy loss function\n",
    "            dw = -np.dot(X.T,(y - y_pred))/n_samples\n",
    "            db = -np.sum(y - y_pred)/n_samples\n",
    "            self.weights -= self.lr* dw\n",
    "            self.bias-= self.lr* db\n",
    "\n",
    "    def predict(self, X):\n",
    "        y_pred = np.dot(X,self.weights)+self.bias\n",
    "\n",
    "        for i in range(len(y_pred)):\n",
    "            if y_pred[i]<= 0.5:\n",
    "                y_pred[i] = 0\n",
    "            else:\n",
    "                y_pred[i] = 1   \n",
    "        return y_pred"
   ]
  },
  {
   "cell_type": "markdown",
   "metadata": {
    "id": "AGBkzAO5red4"
   },
   "source": [
    "9. For the best model in each case (yours and scikit-learn), print the classification_report using sklearn.metrics .\n",
    "10. For the best model in each case (yours and scikit-learn), print the confusion_matrix using sklearn.metrics ."
   ]
  },
  {
   "cell_type": "code",
   "execution_count": null,
   "metadata": {
    "id": "le-HfABsvnyF"
   },
   "outputs": [],
   "source": [
    "from sklearn.metrics import classification_report, confusion_matrix, accuracy_score\n",
    "knn = KNeighborsClassifier(n_neighbors=5)\n",
    "knn = KNeighborsClassifier(n_neighbors=5)\n",
    "knn.fit(X_train, Y_train)\n",
    "\n",
    "# Predict the labels for the test set with KNN\n",
    "Y_pred_knn = knn.predict(X_test)\n",
    "\n",
    "# Evaluate the KNN model\n",
    "accuracy_knn = accuracy_score(Y_test, Y_pred_knn)\n",
    "report_knn = classification_report(Y_test, Y_pred_knn)\n",
    "confusion_knn = confusion_matrix(Y_test, Y_pred_knn)\n",
    "\n",
    "print(f'KNN Model Accuracy: {accuracy_knn}')\n",
    "print('KNN Classification Report:')\n",
    "print(report_knn)\n",
    "print('KNN Confusion Matrix:')\n",
    "print(confusion_knn)\n",
    "\n",
    "# Initialize and train the Logistic Regression model\n",
    "logreg = LogisticRegression(max_iter=1000, random_state=42)\n",
    "logreg.fit(X_train, Y_train)\n",
    "\n",
    "# Predict the labels for the test set with Logistic Regression\n",
    "Y_pred_logreg = logreg.predict(X_test)\n",
    "\n",
    "# Evaluate the Logistic Regression model\n",
    "accuracy_logreg = accuracy_score(Y_test, Y_pred_logreg)\n",
    "report_logreg = classification_report(Y_test, Y_pred_logreg)\n",
    "confusion_logreg = confusion_matrix(Y_test, Y_pred_logreg)\n",
    "\n",
    "print(f'Logistic Regression Model Accuracy: {accuracy_logreg}')\n",
    "print('Logistic Regression Classification Report:')\n",
    "print(report_logreg)\n",
    "print('Logistic Regression Confusion Matrix:')\n",
    "print(confusion_logreg)\n",
    "\n",
    "# Determine and print the best model based on accuracy\n",
    "if accuracy_knn > accuracy_logreg:\n",
    "    print(\"Best model: KNN\")\n",
    "    print('Best KNN Classification Report:')\n",
    "    print(report_knn)\n",
    "    print('Best KNN Confusion Matrix:')\n",
    "    print(confusion_knn)\n",
    "else:\n",
    "    print(\"Best model: Logistic Regression\")\n",
    "    print('Best Logistic Regression Classification Report:')\n",
    "    print(report_logreg)\n",
    "    print('Best Logistic Regression Confusion Matrix:')\n",
    "    print(confusion_logreg)"
   ]
  },
  {
   "cell_type": "markdown",
   "metadata": {
    "id": "6OQ2tSp0MO6n"
   },
   "source": [
    "# KNN\n",
    "## Question 4\n",
    "\n",
    "How accurately can a K-Nearest Neighbors (KNN) model classify different types of glass based on a glass classification dataset consisting of 214 samples and 7 classes? Use the kaggle dataset \"https://www.kaggle.com/datasets/uciml/glass\".\n",
    "\n",
    "Context: This is a Glass Identification Data Set from UCI. It contains 10 attributes including id. The response is glass type(discrete 7 values)"
   ]
  },
  {
   "cell_type": "markdown",
   "metadata": {
    "id": "iMGxbtX-zfsI"
   },
   "source": [
    "1. Load the data as you did in the 2nd question.\n",
    "2. Extract the X and Y columns.\n",
    "3. Split it into training and testing datasets."
   ]
  },
  {
   "cell_type": "code",
   "execution_count": null,
   "metadata": {
    "id": "p0SfLB7pO7_z"
   },
   "outputs": [],
   "source": [
    "import pandas as pd\n",
    "from sklearn.model_selection import train_test_split\n",
    "from sklearn.neighbors import KNeighborsClassifier\n",
    "from sklearn.metrics import accuracy_score, classification_report\n",
    "\n",
    "# Load the dataset\n",
    "url = 'https://www.kaggle.com/datasets/uciml/glass'\n",
    "data = pd.read_csv(url)\n",
    "\n",
    "\n",
    "# Extract features (X) and target (Y)\n",
    "X = data.drop(columns=['Type'])\n",
    "Y = data['Type']\n",
    "\n",
    "# Split the data into training and testing datasets\n",
    "X_train, X_test, Y_train, Y_test = train_test_split(X, Y, test_size=0.3, random_state=42)\n",
    "\n",
    "# Initialize and train the KNN model\n",
    "knn = KNeighborsClassifier(n_neighbors=5)\n",
    "knn.fit(X_train, Y_train)\n",
    "\n"
   ]
  },
  {
   "cell_type": "markdown",
   "metadata": {
    "id": "qtyZJXh9zoh5"
   },
   "source": [
    "4. Define Euclidean distance.\n",
    "5. Build the KNN model.\n",
    "6. Fit the model on the training data. (Note : you may require to change the type of the data from pandas dataframe to numpy arrays. To do that, just do this X=np.array(X) and so on...)"
   ]
  },
  {
   "cell_type": "code",
   "execution_count": null,
   "metadata": {
    "id": "YJkhLORLzn6r"
   },
   "outputs": [],
   "source": [
    "def euclidclass KNN(object):\n",
    "    def __init__(self,k):\n",
    "        self.k=k\n",
    "    def fit(self,x_train,y_train):\n",
    "        self.x_train=x_train\n",
    "        self.y_train=y_train\n",
    "    def predict(self,x_test):\n",
    "        predictions=[self._helper(x) for x in x_test]\n",
    "        return np.array(predictions)\n",
    "    def _helper(self,x):\n",
    "        prediction=[euclidean_distance(x,x1) for x1 in self.x_train]\n",
    "        indices= np.argsort(prediction)[:self.k]\n",
    "        labels= [self.y_train[i] for i in indices]\n",
    "        c=Counter(labels).most_common()\n",
    "        return c[0][0]\n",
    "        ean_distance(x1,x2):\n",
    "    return np.sqrt(np.sum((x1-x2)**2))\n",
    "class KNN(object):\n",
    "    def __init__(self,k):\n",
    "        self.k=k\n",
    "    def fit(self,x_train,y_train):\n",
    "        self.x_train=x_train\n",
    "        self.y_train=y_train\n",
    "    def predict(self,x_test):\n",
    "        predictions=[self._helper(x) for x in x_test]\n",
    "        return np.array(predictions)\n",
    "    def _helper(self,x):\n",
    "        prediction=[euclidean_distance(x,x1) for x1 in self.x_train]\n",
    "        indices= np.argsort(prediction)[:self.k]\n",
    "        labels= [self.y_train[i] for i in indices]\n",
    "        c=Counter(labels).most_common()\n",
    "        return c[0][0]\n",
    "        "
   ]
  },
  {
   "cell_type": "markdown",
   "metadata": {
    "id": "E9rxZpPB0pVS"
   },
   "source": [
    "7. Make predictions. Find their accuracy using accuracy_score. Try different k values. k=3 worked well in our case.\n",
    "8. Compare with the sklearn model (from sklearn.neighbors import KNeighborsClassifier)"
   ]
  },
  {
   "cell_type": "code",
   "execution_count": null,
   "metadata": {
    "id": "ernfjaZJ0pAh"
   },
   "outputs": [],
   "source": [
    "def accuracy(predictions,y_test):\n",
    "    return np.sum(predictions==y_test)/len(y_test)\n",
    "    clf=KNN(k=3)\n",
    "clf.fit(x_train,y_train)\n",
    "predictions=clf.predict(x_test)\n",
    "print(accuracy(predictions,y_test))\n",
    "     "
   ]
  },
  {
   "cell_type": "code",
   "execution_count": null,
   "metadata": {
    "id": "h2tZQg4L09wn"
   },
   "outputs": [],
   "source": []
  }
 ],
 "metadata": {
  "colab": {
   "provenance": []
  },
  "kernelspec": {
   "display_name": "Python 3 (ipykernel)",
   "language": "python",
   "name": "python3"
  },
  "language_info": {
   "codemirror_mode": {
    "name": "ipython",
    "version": 3
   },
   "file_extension": ".py",
   "mimetype": "text/x-python",
   "name": "python",
   "nbconvert_exporter": "python",
   "pygments_lexer": "ipython3",
   "version": "3.12.3"
  }
 },
 "nbformat": 4,
 "nbformat_minor": 4
}
