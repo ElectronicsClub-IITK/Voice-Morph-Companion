{
 "cells": [
  {
   "cell_type": "markdown",
   "metadata": {
    "id": "Y5y_HbJiPKhA"
   },
   "source": [
    "# Linear Regression\n",
    "## Question 1\n",
    "Make a class called LinearRegression which provides two functions : fit and predict. Try to implement it from scratch. If stuck, refer to the examples folder."
   ]
  },
  {
   "cell_type": "code",
   "execution_count": 41,
   "metadata": {
    "id": "gzoG2XilPLFr"
   },
   "outputs": [],
   "source": [
    "import matplotlib.pyplot as plt\n",
    "class LinearRegression:\n",
    "    def __init__(self):\n",
    "        self.coefficients = None\n",
    "\n",
    "    def fit(self, X, y):\n",
    "        # Add a column of ones to X for the intercept term\n",
    "        X_with_intercept = self.add_intercept(X)\n",
    "        \n",
    "        # Calculate coefficients using the normal equation (closed-form solution)\n",
    "        self.coefficients = self.normal_equation(X_with_intercept, y)\n",
    "\n",
    "    def predict(self, X):\n",
    "        # Add a column of ones to X for the intercept term\n",
    "        X_with_intercept = self.add_intercept(X)\n",
    "        \n",
    "        # Make predictions\n",
    "        predictions = self.hypothesis(X_with_intercept)\n",
    "        return predictions\n",
    "\n",
    "    def add_intercept(self, X):\n",
    "        # Add a column of ones to X for the intercept term\n",
    "        intercept_column = np.ones((X.shape[0], 1))\n",
    "        return np.concatenate((intercept_column, X), axis=1)\n",
    "\n",
    "    def hypothesis(self, X):\n",
    "        # Compute the hypothesis (predictions)\n",
    "        return np.dot(X, self.coefficients)\n",
    "\n",
    "    def normal_equation(self, X, y):\n",
    "        # Compute coefficients using the normal equation (closed-form solution)\n",
    "        return np.linalg.inv(X.T.dot(X)).dot(X.T).dot(y)\n",
    "\n"
   ]
  },
  {
   "cell_type": "markdown",
   "metadata": {
    "id": "PsqoxNag7D3-",
    "jp-MarkdownHeadingCollapsed": true
   },
   "source": [
    "## Question 2\n",
    "\n",
    "Use the dataset https://www.kaggle.com/datasets/quantbruce/real-estate-price-prediction (*).\n",
    "1. Read it using pandas.\n",
    "2. Check for **null values**.\n",
    "3. For each of the columns (except the first and last), plot the column values in the X-axis against the last column of prices in the Y-axis.\n",
    "4. Remove the unwanted columns.\n",
    "5. Split the dataset into train and test data. Test data size = 25% of total dataset.\n",
    "6. **Normalize** the X_train and X_test using MinMaxScaler from sklearn.preprocessing.\n",
    "7. Fit the training data into the model created in question 1 and predict the testing data.\n",
    "8. Use **mean square error and R<sup>2</sup>** from sklearn.metrics as evaluation criterias.\n",
    "9. Fit the training data into the models of the same name provided by sklearn.linear_model and evaluate the predictions using MSE and R<sup>2</sup>.\n",
    "10. Tune the hyperparameters of your models (learning rate, epochs) to achieve losses close to that of the sklearn models.\n",
    "\n",
    "Note : (*) To solve this question, you may proceed in any of the following ways :\n",
    "1. Prepare the notebook in Kaggle, download it and submit it separately with the other questions.\n",
    "2. Download the dataset from kaggle. Upload it to the session storage in Colab.\n",
    "3. Use Colab data directly in Colab. [Refer here](https://www.kaggle.com/general/74235). For this, you need to create kaggle API token. Before submitting, hide or remove the API token."
   ]
  },
  {
   "cell_type": "code",
   "execution_count": 14,
   "metadata": {
    "id": "8lupaMcr63QF"
   },
   "outputs": [
    {
     "data": {
      "text/html": [
       "<div>\n",
       "<style scoped>\n",
       "    .dataframe tbody tr th:only-of-type {\n",
       "        vertical-align: middle;\n",
       "    }\n",
       "\n",
       "    .dataframe tbody tr th {\n",
       "        vertical-align: top;\n",
       "    }\n",
       "\n",
       "    .dataframe thead th {\n",
       "        text-align: right;\n",
       "    }\n",
       "</style>\n",
       "<table border=\"1\" class=\"dataframe\">\n",
       "  <thead>\n",
       "    <tr style=\"text-align: right;\">\n",
       "      <th></th>\n",
       "      <th>No</th>\n",
       "      <th>X1 transaction date</th>\n",
       "      <th>X2 house age</th>\n",
       "      <th>X3 distance to the nearest MRT station</th>\n",
       "      <th>X4 number of convenience stores</th>\n",
       "      <th>X5 latitude</th>\n",
       "      <th>X6 longitude</th>\n",
       "      <th>Y house price of unit area</th>\n",
       "    </tr>\n",
       "  </thead>\n",
       "  <tbody>\n",
       "    <tr>\n",
       "      <th>0</th>\n",
       "      <td>1</td>\n",
       "      <td>2012.917</td>\n",
       "      <td>32.0</td>\n",
       "      <td>84.87882</td>\n",
       "      <td>10</td>\n",
       "      <td>24.98298</td>\n",
       "      <td>121.54024</td>\n",
       "      <td>37.9</td>\n",
       "    </tr>\n",
       "    <tr>\n",
       "      <th>1</th>\n",
       "      <td>2</td>\n",
       "      <td>2012.917</td>\n",
       "      <td>19.5</td>\n",
       "      <td>306.59470</td>\n",
       "      <td>9</td>\n",
       "      <td>24.98034</td>\n",
       "      <td>121.53951</td>\n",
       "      <td>42.2</td>\n",
       "    </tr>\n",
       "    <tr>\n",
       "      <th>2</th>\n",
       "      <td>3</td>\n",
       "      <td>2013.583</td>\n",
       "      <td>13.3</td>\n",
       "      <td>561.98450</td>\n",
       "      <td>5</td>\n",
       "      <td>24.98746</td>\n",
       "      <td>121.54391</td>\n",
       "      <td>47.3</td>\n",
       "    </tr>\n",
       "    <tr>\n",
       "      <th>3</th>\n",
       "      <td>4</td>\n",
       "      <td>2013.500</td>\n",
       "      <td>13.3</td>\n",
       "      <td>561.98450</td>\n",
       "      <td>5</td>\n",
       "      <td>24.98746</td>\n",
       "      <td>121.54391</td>\n",
       "      <td>54.8</td>\n",
       "    </tr>\n",
       "    <tr>\n",
       "      <th>4</th>\n",
       "      <td>5</td>\n",
       "      <td>2012.833</td>\n",
       "      <td>5.0</td>\n",
       "      <td>390.56840</td>\n",
       "      <td>5</td>\n",
       "      <td>24.97937</td>\n",
       "      <td>121.54245</td>\n",
       "      <td>43.1</td>\n",
       "    </tr>\n",
       "  </tbody>\n",
       "</table>\n",
       "</div>"
      ],
      "text/plain": [
       "   No  X1 transaction date  X2 house age  \\\n",
       "0   1             2012.917          32.0   \n",
       "1   2             2012.917          19.5   \n",
       "2   3             2013.583          13.3   \n",
       "3   4             2013.500          13.3   \n",
       "4   5             2012.833           5.0   \n",
       "\n",
       "   X3 distance to the nearest MRT station  X4 number of convenience stores  \\\n",
       "0                                84.87882                               10   \n",
       "1                               306.59470                                9   \n",
       "2                               561.98450                                5   \n",
       "3                               561.98450                                5   \n",
       "4                               390.56840                                5   \n",
       "\n",
       "   X5 latitude  X6 longitude  Y house price of unit area  \n",
       "0     24.98298     121.54024                        37.9  \n",
       "1     24.98034     121.53951                        42.2  \n",
       "2     24.98746     121.54391                        47.3  \n",
       "3     24.98746     121.54391                        54.8  \n",
       "4     24.97937     121.54245                        43.1  "
      ]
     },
     "execution_count": 14,
     "metadata": {},
     "output_type": "execute_result"
    }
   ],
   "source": [
    "#1\n",
    "import pandas as pd\n",
    "data_set=pd.read_csv(\"Real estate.csv\")\n",
    "data_set.head()"
   ]
  },
  {
   "cell_type": "code",
   "execution_count": 5,
   "metadata": {},
   "outputs": [
    {
     "name": "stdout",
     "output_type": "stream",
     "text": [
      "No missing values found in the Dataframe.\n"
     ]
    }
   ],
   "source": [
    "#2\n",
    "missing_values = data_set.isnull().sum()\n",
    "\n",
    "if missing_values.any():\n",
    "    print(\"Missing values\", df.shape)\n",
    "else:\n",
    "    print(\"No missing values found in the Dataframe.\")"
   ]
  },
  {
   "cell_type": "code",
   "execution_count": 12,
   "metadata": {},
   "outputs": [],
   "source": [
    "#3\n",
    "import matplotlib.pyplot as plt\n",
    "columns_to_plot = data_set.columns[1:-1]\n",
    "\n",
    "for column in columns_to_plot:\n",
    "    plt.figure(figsize=(8, 6))\n",
    "    plt.scatter(data_set[column], data_set['Y house price of unit area'], alpha=0.5)\n",
    "    plt.title(f'{column} vs Prices')\n",
    "    plt.xlabel(column)\n",
    "    plt.ylabel('Prices')\n",
    "    plt.show()\n",
    "\n"
   ]
  },
  {
   "cell_type": "code",
   "execution_count": 16,
   "metadata": {},
   "outputs": [
    {
     "data": {
      "text/html": [
       "<div>\n",
       "<style scoped>\n",
       "    .dataframe tbody tr th:only-of-type {\n",
       "        vertical-align: middle;\n",
       "    }\n",
       "\n",
       "    .dataframe tbody tr th {\n",
       "        vertical-align: top;\n",
       "    }\n",
       "\n",
       "    .dataframe thead th {\n",
       "        text-align: right;\n",
       "    }\n",
       "</style>\n",
       "<table border=\"1\" class=\"dataframe\">\n",
       "  <thead>\n",
       "    <tr style=\"text-align: right;\">\n",
       "      <th></th>\n",
       "      <th>No</th>\n",
       "      <th>X1 transaction date</th>\n",
       "      <th>X2 house age</th>\n",
       "      <th>X3 distance to the nearest MRT station</th>\n",
       "      <th>X5 latitude</th>\n",
       "      <th>X6 longitude</th>\n",
       "      <th>Y house price of unit area</th>\n",
       "    </tr>\n",
       "  </thead>\n",
       "  <tbody>\n",
       "    <tr>\n",
       "      <th>0</th>\n",
       "      <td>1</td>\n",
       "      <td>2012.917</td>\n",
       "      <td>32.0</td>\n",
       "      <td>84.87882</td>\n",
       "      <td>24.98298</td>\n",
       "      <td>121.54024</td>\n",
       "      <td>37.9</td>\n",
       "    </tr>\n",
       "    <tr>\n",
       "      <th>1</th>\n",
       "      <td>2</td>\n",
       "      <td>2012.917</td>\n",
       "      <td>19.5</td>\n",
       "      <td>306.59470</td>\n",
       "      <td>24.98034</td>\n",
       "      <td>121.53951</td>\n",
       "      <td>42.2</td>\n",
       "    </tr>\n",
       "    <tr>\n",
       "      <th>2</th>\n",
       "      <td>3</td>\n",
       "      <td>2013.583</td>\n",
       "      <td>13.3</td>\n",
       "      <td>561.98450</td>\n",
       "      <td>24.98746</td>\n",
       "      <td>121.54391</td>\n",
       "      <td>47.3</td>\n",
       "    </tr>\n",
       "    <tr>\n",
       "      <th>3</th>\n",
       "      <td>4</td>\n",
       "      <td>2013.500</td>\n",
       "      <td>13.3</td>\n",
       "      <td>561.98450</td>\n",
       "      <td>24.98746</td>\n",
       "      <td>121.54391</td>\n",
       "      <td>54.8</td>\n",
       "    </tr>\n",
       "    <tr>\n",
       "      <th>4</th>\n",
       "      <td>5</td>\n",
       "      <td>2012.833</td>\n",
       "      <td>5.0</td>\n",
       "      <td>390.56840</td>\n",
       "      <td>24.97937</td>\n",
       "      <td>121.54245</td>\n",
       "      <td>43.1</td>\n",
       "    </tr>\n",
       "  </tbody>\n",
       "</table>\n",
       "</div>"
      ],
      "text/plain": [
       "   No  X1 transaction date  X2 house age  \\\n",
       "0   1             2012.917          32.0   \n",
       "1   2             2012.917          19.5   \n",
       "2   3             2013.583          13.3   \n",
       "3   4             2013.500          13.3   \n",
       "4   5             2012.833           5.0   \n",
       "\n",
       "   X3 distance to the nearest MRT station  X5 latitude  X6 longitude  \\\n",
       "0                                84.87882     24.98298     121.54024   \n",
       "1                               306.59470     24.98034     121.53951   \n",
       "2                               561.98450     24.98746     121.54391   \n",
       "3                               561.98450     24.98746     121.54391   \n",
       "4                               390.56840     24.97937     121.54245   \n",
       "\n",
       "   Y house price of unit area  \n",
       "0                        37.9  \n",
       "1                        42.2  \n",
       "2                        47.3  \n",
       "3                        54.8  \n",
       "4                        43.1  "
      ]
     },
     "execution_count": 16,
     "metadata": {},
     "output_type": "execute_result"
    }
   ],
   "source": [
    "#4\n",
    "data_set_updated=data_set.drop(['X4 number of convenience stores'],axis=1)\n",
    "data_set_updated.head()"
   ]
  },
  {
   "cell_type": "code",
   "execution_count": 18,
   "metadata": {},
   "outputs": [
    {
     "name": "stdout",
     "output_type": "stream",
     "text": [
      "Shape of X_train: (310, 6)\n",
      "Shape of X_test: (104, 6)\n",
      "Shape of y_train: (310,)\n",
      "Shape of y_test: (104,)\n"
     ]
    }
   ],
   "source": [
    "#5\n",
    "from sklearn.model_selection import train_test_split\n",
    "X = data_set_updated.iloc[:, :-1] \n",
    "y = data_set_updated.iloc[:, -1] \n",
    "\n",
    "X_train, X_test, y_train, y_test = train_test_split(X, y, test_size=0.25, random_state=42)\n",
    "\n",
    "print(\"Shape of X_train:\", X_train.shape)\n",
    "print(\"Shape of X_test:\", X_test.shape)\n",
    "print(\"Shape of y_train:\", y_train.shape)\n",
    "print(\"Shape of y_test:\", y_test.shape)\n"
   ]
  },
  {
   "cell_type": "code",
   "execution_count": 19,
   "metadata": {},
   "outputs": [
    {
     "name": "stdout",
     "output_type": "stream",
     "text": [
      "Shape of X_train_normalized: (310, 6)\n",
      "Shape of X_test_normalized: (104, 6)\n"
     ]
    }
   ],
   "source": [
    "#6\n",
    "from sklearn.preprocessing import MinMaxScaler\n",
    "scaler = MinMaxScaler()\n",
    "X_train_normalized = scaler.fit_transform(X_train)\n",
    "X_test_normalized = scaler.transform(X_test)\n",
    "print(\"Shape of X_train_normalized:\",X_train_normalized.shape)\n",
    "print(\"Shape of X_test_normalized:\",X_test_normalized.shape)"
   ]
  },
  {
   "cell_type": "code",
   "execution_count": 28,
   "metadata": {
    "scrolled": true
   },
   "outputs": [
    {
     "name": "stdout",
     "output_type": "stream",
     "text": [
      "Mean Squared Error: 74.83914472084611\n",
      "R^2 Score: 0.5281818131421638\n"
     ]
    }
   ],
   "source": [
    "#7 & 8\n",
    "from sklearn.linear_model import LinearRegression\n",
    "from sklearn.metrics import mean_squared_error, r2_score\n",
    "\n",
    "model = LinearRegression()\n",
    "\n",
    "model.fit(X_train_normalized, y_train)\n",
    "predictions = model.predict(X_test_normalized)\n",
    "\n",
    "mse = mean_squared_error(y_test, predictions)\n",
    "r2 = r2_score(y_test, predictions)\n",
    "print(\"Mean Squared Error:\", mse)\n",
    "print(\"R^2 Score:\", r2)\n"
   ]
  },
  {
   "cell_type": "code",
   "execution_count": 31,
   "metadata": {},
   "outputs": [
    {
     "name": "stdout",
     "output_type": "stream",
     "text": [
      "Custom Linear Regression Model:\n",
      "Mean Squared Error: 86.43626588236094\n",
      "R^2 Score: 0.45506856873502355\n"
     ]
    }
   ],
   "source": [
    "#10\n",
    "class CustomLinearRegression:\n",
    "    def __init__(self, learning_rate=0.01, epochs=1000):\n",
    "        self.learning_rate = learning_rate\n",
    "        self.epochs = epochs\n",
    "        self.coefficients = None\n",
    "\n",
    "    def fit(self, X, y):\n",
    "        X_with_intercept = self.add_intercept(X)\n",
    "        self.coefficients = np.zeros(X_with_intercept.shape[1])\n",
    "        for _ in range(self.epochs):\n",
    "            gradient = self.compute_gradient(X_with_intercept, y)\n",
    "            self.coefficients -= self.learning_rate * gradient\n",
    "\n",
    "    def predict(self, X):\n",
    "        X_with_intercept = self.add_intercept(X)\n",
    "        predictions = self.hypothesis(X_with_intercept)\n",
    "        return predictions\n",
    "\n",
    "    def add_intercept(self, X):\n",
    "        intercept_column = np.ones((X.shape[0], 1))\n",
    "        return np.concatenate((intercept_column, X), axis=1)\n",
    "\n",
    "    def hypothesis(self, X):\n",
    "        return np.dot(X, self.coefficients)\n",
    "\n",
    "    def compute_gradient(self, X, y):\n",
    "        predictions = self.hypothesis(X)\n",
    "        error = predictions - y\n",
    "        gradient = np.dot(X.T, error) / len(y)\n",
    "        return gradient\n",
    "\n",
    "model_custom = CustomLinearRegression(learning_rate=0.01, epochs=1000)\n",
    "model_custom.fit(X_train_normalized, y_train)\n",
    "predictions_custom = model_custom.predict(X_test_normalized)\n",
    "mse_custom = mean_squared_error(y_test, predictions_custom)\n",
    "r2_custom = r2_score(y_test, predictions_custom)\n",
    "print(\"Custom Linear Regression Model:\")\n",
    "print(\"Mean Squared Error:\", mse_custom)\n",
    "print(\"R^2 Score:\", r2_custom)\n"
   ]
  },
  {
   "cell_type": "code",
   "execution_count": null,
   "metadata": {},
   "outputs": [],
   "source": []
  },
  {
   "cell_type": "markdown",
   "metadata": {
    "id": "dQ7lQpy-SYCq"
   },
   "source": [
    "# Logistic Regression\n",
    "## Question 3\n",
    "\n",
    "The breast cancer dataset is a binary classification dataset commonly used in machine learning tasks. It is available in scikit-learn (sklearn) as part of its datasets module.\n",
    "Here is an explanation of the breast cancer dataset's components:\n",
    "\n",
    "* Features (X):\n",
    "\n",
    " * The breast cancer dataset consists of 30 numeric features representing different characteristics of the FNA images. These features include mean, standard error, and worst (largest) values of various attributes such as radius, texture, smoothness, compactness, concavity, symmetry, fractal dimension, etc.\n",
    "\n",
    "* Target (y):\n",
    "\n",
    " * The breast cancer dataset is a binary classification problem, and the target variable (y) represents the diagnosis of the breast mass. It contains two classes:\n",
    "    * 0: Represents a malignant (cancerous) tumor.\n",
    "    * 1: Represents a benign (non-cancerous) tumor.\n",
    "\n",
    "Complete the code given below in place of the \"...\""
   ]
  },
  {
   "cell_type": "markdown",
   "metadata": {
    "id": "auipk-zBpmO-"
   },
   "source": [
    "1. Load the dataset from sklearn.datasets\n",
    "2. Separate out the X and Y columns.\n",
    "3. Normalize the X data using MinMaxScaler or StandardScaler.\n",
    "4. Create a train-test-split. Take any suitable test size."
   ]
  },
  {
   "cell_type": "code",
   "execution_count": 33,
   "metadata": {
    "id": "0OyGNHNjFh13"
   },
   "outputs": [],
   "source": [
    "from sklearn.datasets import load_breast_cancer\n",
    "\n",
    "data = load_breast_cancer()\n",
    "print(data.DESCR)\n",
    "print(\"Feature names:\")\n",
    "print(data.feature_names)\n",
    "print(\"Target names:\")\n",
    "print(data.target_names)\n",
    "print(\"Shape of feature data (X):\", data.data.shape)\n",
    "print(\"Shape of target data (y):\", data.target.shape)"
   ]
  },
  {
   "cell_type": "code",
   "execution_count": 34,
   "metadata": {},
   "outputs": [
    {
     "name": "stdout",
     "output_type": "stream",
     "text": [
      "Shape of feature data (X): (569, 30)\n",
      "Shape of target data (y): (569,)\n"
     ]
    }
   ],
   "source": [
    "data = load_breast_cancer()\n",
    "X = data.data\n",
    "y = data.target\n",
    "print(\"Shape of feature data (X):\", X.shape)\n",
    "print(\"Shape of target data (y):\", y.shape)"
   ]
  },
  {
   "cell_type": "code",
   "execution_count": 48,
   "metadata": {},
   "outputs": [
    {
     "name": "stdout",
     "output_type": "stream",
     "text": [
      "Shape of normalized feature data (X): (569, 30)\n"
     ]
    }
   ],
   "source": [
    "from sklearn.preprocessing import StandardScaler\n",
    "scaler = StandardScaler()\n",
    "X_normalized = scaler.fit_transform(X)\n",
    "print(\"Shape of normalized feature data (X):\", X_normalized.shape)\n",
    "import matplotlib.pyplot as plt\n",
    "feature1 = 0 \n",
    "feature2 = 1  \n",
    "\n",
    "plt.figure(figsize=(8, 6))\n",
    "plt.scatter(X_normalized[:, feature1], X_normalized[:, feature2], c=y, cmap=plt.cm.coolwarm, alpha=0.5)\n",
    "plt.xlabel('Feature 1')\n",
    "plt.ylabel('Feature 2')\n",
    "plt.title('Scatter Plot of Normalized Feature Data')\n",
    "plt.colorbar(label='Target')\n",
    "plt.grid(True)\n",
    "plt.show()"
   ]
  },
  {
   "cell_type": "code",
   "execution_count": 47,
   "metadata": {},
   "outputs": [
    {
     "name": "stdout",
     "output_type": "stream",
     "text": [
      "Shape of X_train: (455, 30)\n",
      "Shape of X_test: (114, 30)\n",
      "Shape of y_train: (455,)\n",
      "Shape of y_test: (114,)\n"
     ]
    }
   ],
   "source": [
    "from sklearn.model_selection import train_test_split\n",
    "X_train, X_test, y_train, y_test = train_test_split(X_normalized, y, test_size=0.2, random_state=42)\n",
    "print(\"Shape of X_train:\", X_train.shape)\n",
    "print(\"Shape of X_test:\", X_test.shape)\n",
    "print(\"Shape of y_train:\", y_train.shape)\n",
    "print(\"Shape of y_test:\", y_test.shape)\n",
    "feature1 = 0 \n",
    "feature2 = 1  \n",
    "plt.figure(figsize=(8, 6))\n",
    "plt.scatter(X_train[:, feature1], X_train[:, feature2], c=y_train, cmap=plt.cm.coolwarm, alpha=0.5, label='Training Set')\n",
    "plt.scatter(X_test[:, feature1], X_test[:, feature2], c=y_test, cmap=plt.cm.coolwarm, alpha=0.5, marker='x', label='Testing Set')\n",
    "plt.xlabel('Feature 1')\n",
    "plt.ylabel('Feature 2')\n",
    "plt.title('Train-Test-Split of Normalized Feature Data')\n",
    "plt.colorbar(label='Target')\n",
    "plt.legend()\n",
    "plt.grid(True)\n",
    "plt.show()\n"
   ]
  },
  {
   "cell_type": "markdown",
   "metadata": {
    "id": "uM-SsSxpqF2o"
   },
   "source": [
    "5. Write code for the sigmoid function and Logistic regression.\n"
   ]
  },
  {
   "cell_type": "code",
   "execution_count": 72,
   "metadata": {
    "id": "o81LA5MZFoTW"
   },
   "outputs": [],
   "source": [
    "import numpy as np\n",
    "def sigmoid(z):\n",
    "    sig = 1/(1+np.exp(-z))\n",
    "    return sig\n",
    "    \n",
    "def sigmoid_derivative(z):\n",
    "    sig = sigmoid(x)\n",
    "    return sig*(1 - sig)\n",
    "\n",
    "class LogisticRegression:\n",
    "    # def sigmoid(self,z=None):\n",
    "    #     if z is None:\n",
    "    #         z=z.self\n",
    "    #     sig = 1/(1+np.exp(-z))\n",
    "    #     return sig\n",
    "    \n",
    "    def sigmoid_derivative(z):\n",
    "        sig = sigmoid(x)\n",
    "        return sig*(1 - sig)\n",
    "\n",
    "    \n",
    "    def __init__(self, learning_rate, epochs):\n",
    "      #Initialise the hyperparameters of the model\n",
    "        self.lr = learning_rate\n",
    "        self.epochs = epochs\n",
    "\n",
    "    def sigmoid(self,z):\n",
    "        sig = 1/(1+np.exp(-z))\n",
    "        return sig\n",
    "        \n",
    "    def fit(self, X, y):\n",
    "        n_samples, n_features = X.shape\n",
    "        y = y.reshape(-1, 1)\n",
    "        self.weights = np.zeros((n_features,1))\n",
    "        self.bias = 0\n",
    "        #Implement the GD algortihm\n",
    "        for _ in range(self.epochs):\n",
    "            z = np.dot(X, self.weights) + self.bias\n",
    "            y_pred = self.sigmoid(z)\n",
    "\n",
    "            dw = (1 / n_samples) * np.dot(X.T, (y_pred - y))\n",
    "            db = (1 / n_samples) * np.sum(y_pred - y)\n",
    "\n",
    "            self.weights -= self.lr*dw\n",
    "            self.bias -= self.lr*db\n",
    "    \n",
    "    def predict(self, X):\n",
    "        #Write the predict function\n",
    "        z = np.dot(X, self.weights) + self.bias\n",
    "        y_pred = self.sigmoid(z)   \n",
    "        return np.round(y_pred)"
   ]
  },
  {
   "cell_type": "markdown",
   "metadata": {
    "id": "Uo9LNRMzq4K-"
   },
   "source": [
    "6. Fit your model on the dataset and make predictions.\n",
    "7. Compare your model with the Sklearn Logistic Regression model. Try out all the different penalties.\n",
    "8. Print accuracy_score in each case using sklearn.metrics ."
   ]
  },
  {
   "cell_type": "code",
   "execution_count": 76,
   "metadata": {
    "id": "DyGsTTOqFphf"
   },
   "outputs": [
    {
     "name": "stdout",
     "output_type": "stream",
     "text": [
      "Predictions: [[1.]\n",
      " [0.]\n",
      " [0.]\n",
      " [1.]\n",
      " [1.]\n",
      " [0.]\n",
      " [0.]\n",
      " [0.]\n",
      " [1.]\n",
      " [1.]]\n"
     ]
    }
   ],
   "source": [
    "model = LogisticRegression(learning_rate=0.01, epochs=1000)\n",
    "model.fit(X_train, y_train)\n",
    "predictions = model.predict(X_test)\n",
    "print(\"Predictions:\", predictions[:10])"
   ]
  },
  {
   "cell_type": "code",
   "execution_count": null,
   "metadata": {},
   "outputs": [],
   "source": []
  },
  {
   "cell_type": "markdown",
   "metadata": {
    "id": "AGBkzAO5red4"
   },
   "source": [
    "9. For the best model in each case (yours and scikit-learn), print the classification_report using sklearn.metrics .\n",
    "10. For the best model in each case (yours and scikit-learn), print the confusion_matrix using sklearn.metrics ."
   ]
  },
  {
   "cell_type": "code",
   "execution_count": null,
   "metadata": {
    "id": "le-HfABsvnyF"
   },
   "outputs": [],
   "source": []
  },
  {
   "cell_type": "markdown",
   "metadata": {
    "id": "6OQ2tSp0MO6n"
   },
   "source": [
    "# KNN\n",
    "## Question 4\n",
    "\n",
    "How accurately can a K-Nearest Neighbors (KNN) model classify different types of glass based on a glass classification dataset consisting of 214 samples and 7 classes? Use the kaggle dataset \"https://www.kaggle.com/datasets/uciml/glass\".\n",
    "\n",
    "Context: This is a Glass Identification Data Set from UCI. It contains 10 attributes including id. The response is glass type(discrete 7 values)"
   ]
  },
  {
   "cell_type": "markdown",
   "metadata": {
    "id": "iMGxbtX-zfsI"
   },
   "source": [
    "1. Load the data as you did in the 2nd question.\n",
    "2. Extract the X and Y columns.\n",
    "3. Split it into training and testing datasets."
   ]
  },
  {
   "cell_type": "code",
   "execution_count": 77,
   "metadata": {
    "id": "p0SfLB7pO7_z"
   },
   "outputs": [
    {
     "data": {
      "text/html": [
       "<div>\n",
       "<style scoped>\n",
       "    .dataframe tbody tr th:only-of-type {\n",
       "        vertical-align: middle;\n",
       "    }\n",
       "\n",
       "    .dataframe tbody tr th {\n",
       "        vertical-align: top;\n",
       "    }\n",
       "\n",
       "    .dataframe thead th {\n",
       "        text-align: right;\n",
       "    }\n",
       "</style>\n",
       "<table border=\"1\" class=\"dataframe\">\n",
       "  <thead>\n",
       "    <tr style=\"text-align: right;\">\n",
       "      <th></th>\n",
       "      <th>RI</th>\n",
       "      <th>Na</th>\n",
       "      <th>Mg</th>\n",
       "      <th>Al</th>\n",
       "      <th>Si</th>\n",
       "      <th>K</th>\n",
       "      <th>Ca</th>\n",
       "      <th>Ba</th>\n",
       "      <th>Fe</th>\n",
       "      <th>Type</th>\n",
       "    </tr>\n",
       "  </thead>\n",
       "  <tbody>\n",
       "    <tr>\n",
       "      <th>0</th>\n",
       "      <td>1.52101</td>\n",
       "      <td>13.64</td>\n",
       "      <td>4.49</td>\n",
       "      <td>1.10</td>\n",
       "      <td>71.78</td>\n",
       "      <td>0.06</td>\n",
       "      <td>8.75</td>\n",
       "      <td>0.0</td>\n",
       "      <td>0.0</td>\n",
       "      <td>1</td>\n",
       "    </tr>\n",
       "    <tr>\n",
       "      <th>1</th>\n",
       "      <td>1.51761</td>\n",
       "      <td>13.89</td>\n",
       "      <td>3.60</td>\n",
       "      <td>1.36</td>\n",
       "      <td>72.73</td>\n",
       "      <td>0.48</td>\n",
       "      <td>7.83</td>\n",
       "      <td>0.0</td>\n",
       "      <td>0.0</td>\n",
       "      <td>1</td>\n",
       "    </tr>\n",
       "    <tr>\n",
       "      <th>2</th>\n",
       "      <td>1.51618</td>\n",
       "      <td>13.53</td>\n",
       "      <td>3.55</td>\n",
       "      <td>1.54</td>\n",
       "      <td>72.99</td>\n",
       "      <td>0.39</td>\n",
       "      <td>7.78</td>\n",
       "      <td>0.0</td>\n",
       "      <td>0.0</td>\n",
       "      <td>1</td>\n",
       "    </tr>\n",
       "    <tr>\n",
       "      <th>3</th>\n",
       "      <td>1.51766</td>\n",
       "      <td>13.21</td>\n",
       "      <td>3.69</td>\n",
       "      <td>1.29</td>\n",
       "      <td>72.61</td>\n",
       "      <td>0.57</td>\n",
       "      <td>8.22</td>\n",
       "      <td>0.0</td>\n",
       "      <td>0.0</td>\n",
       "      <td>1</td>\n",
       "    </tr>\n",
       "    <tr>\n",
       "      <th>4</th>\n",
       "      <td>1.51742</td>\n",
       "      <td>13.27</td>\n",
       "      <td>3.62</td>\n",
       "      <td>1.24</td>\n",
       "      <td>73.08</td>\n",
       "      <td>0.55</td>\n",
       "      <td>8.07</td>\n",
       "      <td>0.0</td>\n",
       "      <td>0.0</td>\n",
       "      <td>1</td>\n",
       "    </tr>\n",
       "  </tbody>\n",
       "</table>\n",
       "</div>"
      ],
      "text/plain": [
       "        RI     Na    Mg    Al     Si     K    Ca   Ba   Fe  Type\n",
       "0  1.52101  13.64  4.49  1.10  71.78  0.06  8.75  0.0  0.0     1\n",
       "1  1.51761  13.89  3.60  1.36  72.73  0.48  7.83  0.0  0.0     1\n",
       "2  1.51618  13.53  3.55  1.54  72.99  0.39  7.78  0.0  0.0     1\n",
       "3  1.51766  13.21  3.69  1.29  72.61  0.57  8.22  0.0  0.0     1\n",
       "4  1.51742  13.27  3.62  1.24  73.08  0.55  8.07  0.0  0.0     1"
      ]
     },
     "execution_count": 77,
     "metadata": {},
     "output_type": "execute_result"
    }
   ],
   "source": [
    "#1\n",
    "df=pd.read_csv(\"glass.csv\")\n",
    "df.head()"
   ]
  },
  {
   "cell_type": "code",
   "execution_count": 79,
   "metadata": {},
   "outputs": [],
   "source": [
    "#2\n",
    "x=df.drop(columns=['Type'])\n",
    "y=df['Type']"
   ]
  },
  {
   "cell_type": "code",
   "execution_count": 80,
   "metadata": {},
   "outputs": [],
   "source": [
    "#3 spliting data\n",
    "X_train, X_test, y_train, y_test = train_test_split(x, y, test_size=0.2, random_state=42)"
   ]
  },
  {
   "cell_type": "markdown",
   "metadata": {
    "id": "qtyZJXh9zoh5"
   },
   "source": [
    "4. Define Euclidean distance.\n",
    "5. Build the KNN model.\n",
    "6. Fit the model on the training data. (Note : you may require to change the type of the data from pandas dataframe to numpy arrays. To do that, just do this X=np.array(X) and so on...)"
   ]
  },
  {
   "cell_type": "code",
   "execution_count": 81,
   "metadata": {
    "id": "YJkhLORLzn6r"
   },
   "outputs": [],
   "source": [
    "def euclidean_distance(x1,x2):\n",
    "    return np.sqrt(np.sum((x1-x2)**2))"
   ]
  },
  {
   "cell_type": "code",
   "execution_count": 83,
   "metadata": {},
   "outputs": [],
   "source": [
    "class KNN(object):\n",
    "    def __init__(self,k):\n",
    "        self.k=k\n",
    "    def fit(self,x_train,y_train):\n",
    "        self.x_train=x_train\n",
    "        self.y_train=y_train\n",
    "    def predict(self,x_test):\n",
    "        predictions=[self._helper(x) for x in x_test]\n",
    "        return np.array(predictions)\n",
    "    def _helper(self,x):\n",
    "        prediction=[euclidean_distance(x,x1) for x1 in self.x_train]\n",
    "        indices= np.argsort(prediction)[:self.k]\n",
    "        labels= [self.y_train[i] for i in indices]\n",
    "        c=Counter(labels).most_common()\n",
    "        return c[0][0]\n",
    "\n",
    "def accuracy(predictions,y_test):\n",
    "    return np.sum(predictions==y_test)/len(y_test)"
   ]
  },
  {
   "cell_type": "code",
   "execution_count": 85,
   "metadata": {},
   "outputs": [],
   "source": [
    "X_train=np.array(X_train)\n",
    "X_test=np.array(X_test)\n",
    "y_train=np.array(y_train)\n",
    "y_test=np.array(y_test)"
   ]
  },
  {
   "cell_type": "code",
   "execution_count": 87,
   "metadata": {},
   "outputs": [
    {
     "name": "stdout",
     "output_type": "stream",
     "text": [
      "0.7441860465116279\n"
     ]
    }
   ],
   "source": [
    "from collections import Counter\n",
    "clf=KNN(k=3)\n",
    "clf.fit(X_train,y_train)\n",
    "predictions=clf.predict(X_test)\n",
    "print(accuracy(predictions,y_test))"
   ]
  },
  {
   "cell_type": "code",
   "execution_count": 90,
   "metadata": {},
   "outputs": [
    {
     "name": "stdout",
     "output_type": "stream",
     "text": [
      "Accuracy of KNN model (using scikit-learn): 0.6511627906976745\n"
     ]
    }
   ],
   "source": [
    "from sklearn.neighbors import KNeighborsClassifier\n",
    "from sklearn.metrics import accuracy_score\n",
    "knn_classifier = KNeighborsClassifier()\n",
    "knn_classifier.fit(X_train, y_train)\n",
    "Y_pred = knn_classifier.predict(X_test)\n",
    "accuracy = accuracy_score(y_test, Y_pred)\n",
    "print(\"Accuracy of KNN model (using scikit-learn):\", accuracy)"
   ]
  },
  {
   "cell_type": "code",
   "execution_count": null,
   "metadata": {},
   "outputs": [],
   "source": []
  },
  {
   "cell_type": "markdown",
   "metadata": {
    "id": "E9rxZpPB0pVS"
   },
   "source": [
    "7. Make predictions. Find their accuracy using accuracy_score. Try different k values. k=3 worked well in our case.\n",
    "8. Compare with the sklearn model (from sklearn.neighbors import KNeighborsClassifier)"
   ]
  },
  {
   "cell_type": "code",
   "execution_count": null,
   "metadata": {
    "id": "ernfjaZJ0pAh"
   },
   "outputs": [],
   "source": []
  },
  {
   "cell_type": "code",
   "execution_count": null,
   "metadata": {
    "id": "h2tZQg4L09wn"
   },
   "outputs": [],
   "source": []
  }
 ],
 "metadata": {
  "colab": {
   "provenance": []
  },
  "kernelspec": {
   "display_name": "Python 3 (ipykernel)",
   "language": "python",
   "name": "python3"
  },
  "language_info": {
   "codemirror_mode": {
    "name": "ipython",
    "version": 3
   },
   "file_extension": ".py",
   "mimetype": "text/x-python",
   "name": "python",
   "nbconvert_exporter": "python",
   "pygments_lexer": "ipython3",
   "version": "3.11.7"
  }
 },
 "nbformat": 4,
 "nbformat_minor": 4
}
