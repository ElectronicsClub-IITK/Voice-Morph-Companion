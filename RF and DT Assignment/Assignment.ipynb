{
 "cells": [
  {
   "cell_type": "markdown",
   "metadata": {},
   "source": [
    "# Random Forests and Decision Trees\n",
    "- Classify the Spotify.csv dataset \n",
    "- Predict the Genre \n",
    "- The dataset has 23 Columns and The Output feature is **playlist_genre** so all others can be used as input features. Decide on what can be used and what cannot be used. \n",
    "- Do the Preprocessing below\n",
    "- Do 70:30 Train test split "
   ]
  },
  {
   "cell_type": "code",
   "execution_count": 44,
   "metadata": {},
   "outputs": [
    {
     "name": "stdout",
     "output_type": "stream",
     "text": [
      "['track_artist', 'playlist_name', 'playlist_subgenre']\n",
      "['track_popularity', 'danceability', 'energy', 'key', 'loudness', 'mode', 'speechiness', 'acousticness', 'instrumentalness', 'liveness', 'valence', 'tempo', 'duration_ms']\n",
      "The predicted playlist genre is\n",
      " ['edm' 'rock' 'r&b' ... 'edm' 'edm' 'latin']\n",
      "The accuracy here is : 0.8548223350253807\n"
     ]
    }
   ],
   "source": [
    "import pandas as pd\n",
    "import numpy as np\n",
    "from sklearn.model_selection import train_test_split\n",
    "from sklearn.ensemble import RandomForestRegressor\n",
    "from sklearn.ensemble import RandomForestClassifier\n",
    "from sklearn.preprocessing import OneHotEncoder\n",
    "from sklearn.preprocessing import LabelEncoder\n",
    "from sklearn.metrics import accuracy_score\n",
    "data = pd.read_csv(r\"C:\\Users\\chand\\summer_proj_back files\\Week_2_submission\\RF and DT Assignment\\spotify Edited.csv\")\n",
    "df = pd.DataFrame(data)\n",
    "columns_string =df.select_dtypes(include=['object']).columns.to_list()\n",
    "columns_num = df.select_dtypes(include=['int','float']).columns.to_list()\n",
    "columns_remove = ('track_id', 'track_name', 'track_album_id', 'track_album_name' ,'track_album_release_date', 'playlist_id','playlist_genre')\n",
    "columns_string = [col for col in columns_string if col not in columns_remove]\n",
    "y = df['playlist_genre'].copy()\n",
    "print(columns_string)\n",
    "print(columns_num)\n",
    "x_cat = df[columns_string].copy()\n",
    "x_num = df[columns_num].copy()\n",
    "lab_en = LabelEncoder()\n",
    "\n",
    "colums_xcat = x_cat.columns.tolist()\n",
    "for col in colums_xcat:\n",
    "    x_cat[col] = lab_en.fit_transform(x_cat[col])\n",
    "x_cat = pd.DataFrame(x_cat,columns=colums_xcat)\n",
    "X = pd.concat([x_num,x_cat],axis = 1)\n",
    "x_train,x_test,y_train,y_test = train_test_split(X,y,test_size=0.3,random_state=42)\n",
    "forest = RandomForestClassifier(n_estimators= 100,max_depth=7,random_state=42)\n",
    "forest.fit(x_train,y_train)\n",
    "y_pred = forest.predict(x_test)\n",
    "print(\"The predicted playlist genre is\\n\", y_pred)\n",
    "print(\"The accuracy here is :\",accuracy_score(y_test,y_pred))\n",
    "#track_id track_name track_album_id track_album_name track_album_release_date playlist_id  "
   ]
  },
  {
   "cell_type": "markdown",
   "metadata": {},
   "source": [
    "## Frame a Decision Tree Model \n",
    "- Use Any Parameters\n",
    "- You can use any library"
   ]
  },
  {
   "cell_type": "code",
   "execution_count": 45,
   "metadata": {},
   "outputs": [],
   "source": [
    "from sklearn.tree import DecisionTreeClassifier\n",
    "tree_classifier   = DecisionTreeClassifier(criterion='gini',max_depth=6,min_samples_split=3,random_state=42)\n"
   ]
  },
  {
   "cell_type": "markdown",
   "metadata": {},
   "source": [
    "## Frame a Random Forests Model \n",
    "- Use Any Parameters\n",
    "- You can use any library"
   ]
  },
  {
   "cell_type": "code",
   "execution_count": 46,
   "metadata": {},
   "outputs": [],
   "source": [
    "from sklearn.ensemble import RandomForestClassifier\n",
    "forest_random = RandomForestClassifier(criterion='gini',max_depth = 25,random_state=42,min_samples_split=2,n_estimators=1000)\n"
   ]
  },
  {
   "cell_type": "markdown",
   "metadata": {},
   "source": [
    "## Train the Models and Report the Accuracy"
   ]
  },
  {
   "cell_type": "code",
   "execution_count": 47,
   "metadata": {},
   "outputs": [
    {
     "name": "stdout",
     "output_type": "stream",
     "text": [
      "The accuracy for Decision tree = 0.9358375634517766\n",
      "The accuracy for Decision Random forest = 0.9904568527918781\n"
     ]
    }
   ],
   "source": [
    "tree_classifier.fit(x_train,y_train)\n",
    "forest_random.fit(x_train,y_train)\n",
    "y_pred_tree = tree_classifier.predict(x_test)\n",
    "y_pred_forest = forest_random.predict(x_test)\n",
    "print(\"The accuracy for Decision tree =\",accuracy_score(y_test,y_pred_tree))\n",
    "print(\"The accuracy for Decision Random forest =\",accuracy_score(y_test,y_pred_forest))"
   ]
  }
 ],
 "metadata": {
  "kernelspec": {
   "display_name": "Python 3",
   "language": "python",
   "name": "python3"
  },
  "language_info": {
   "codemirror_mode": {
    "name": "ipython",
    "version": 3
   },
   "file_extension": ".py",
   "mimetype": "text/x-python",
   "name": "python",
   "nbconvert_exporter": "python",
   "pygments_lexer": "ipython3",
   "version": "3.12.0"
  }
 },
 "nbformat": 4,
 "nbformat_minor": 2
}
