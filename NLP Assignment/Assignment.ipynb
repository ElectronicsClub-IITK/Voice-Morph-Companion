{
 "cells": [
  {
   "cell_type": "code",
   "execution_count": 54,
   "metadata": {},
   "outputs": [
    {
     "name": "stdout",
     "output_type": "stream",
     "text": [
      "                                                 text        label\n",
      "0    Stuning even for the non-gamer: This sound tr...  __label__2 \n",
      "1    The best soundtrack ever to anything.: I'm re...  __label__2 \n",
      "2    Amazing!: This soundtrack is my favorite musi...  __label__2 \n",
      "3    Excellent Soundtrack: I truly like this sound...  __label__2 \n",
      "4    Remember, Pull Your Jaw Off The Floor After H...  __label__2 \n",
      "5    an absolute masterpiece: I am quite sure any ...  __label__2 \n",
      "6    Buyer beware: This is a self-published book, ...  __label__1 \n",
      "7    Glorious story: I loved Whisper of the wicked...  __label__2 \n",
      "8    A FIVE STAR BOOK: I just finished reading Whi...  __label__2 \n",
      "9    Whispers of the Wicked Saints: This was a eas...  __label__2 \n",
      "10   The Worst!: A complete waste of time. Typogra...  __label__1 \n",
      "11   Great book: This was a great book,I just coul...  __label__2 \n",
      "12   Great Read: I thought this book was brilliant...  __label__2 \n",
      "13   Oh please: I guess you have to be a romance n...  __label__1 \n",
      "14   Awful beyond belief!: I feel I have to write ...  __label__1 \n"
     ]
    }
   ],
   "source": [
    "import pandas as pd\n",
    "import numpy as np\n",
    "df = pd.read_csv('corpus.csv', encoding='latin1')\n",
    "print(df.head(15))"
   ]
  },
  {
   "cell_type": "code",
   "execution_count": 55,
   "metadata": {},
   "outputs": [
    {
     "name": "stdout",
     "output_type": "stream",
     "text": [
      "Number of rows: 10000\n"
     ]
    }
   ],
   "source": [
    "num_rows = len(df)\n",
    "print(\"Number of rows:\", num_rows)"
   ]
  },
  {
   "cell_type": "code",
   "execution_count": 56,
   "metadata": {},
   "outputs": [],
   "source": [
    "#pre-processing\n",
    "from nltk.corpus import stopwords\n",
    "from nltk.tokenize import word_tokenize\n",
    "import string\n",
    "\n",
    "# Function to remove punctuation\n",
    "def remove_punctuation(text):\n",
    "    punctuation = string.punctuation\n",
    "    cleaned_text = text.translate(str.maketrans('', '', punctuation))\n",
    "    return cleaned_text\n",
    "\n",
    "# Function to remove stop words\n",
    "def remove_stopwords(text):\n",
    "    stop_words = set(stopwords.words('english'))\n",
    "    tokens = word_tokenize(text)\n",
    "    filtered_tokens = [token for token in tokens if token.lower() not in stop_words]\n",
    "    cleaned_text = ' '.join(filtered_tokens)\n",
    "    return cleaned_text\n",
    "\n",
    "# Iterate over each row using a for loop\n",
    "for index, row in df.iterrows():\n",
    "    cleaned_text = remove_punctuation(row['text'])\n",
    "    cleaned_text = remove_stopwords(cleaned_text)\n",
    "    df.loc[index, 'cleaned_text'] = cleaned_text\n"
   ]
  },
  {
   "cell_type": "code",
   "execution_count": 57,
   "metadata": {},
   "outputs": [
    {
     "data": {
      "text/html": [
       "<div>\n",
       "<style scoped>\n",
       "    .dataframe tbody tr th:only-of-type {\n",
       "        vertical-align: middle;\n",
       "    }\n",
       "\n",
       "    .dataframe tbody tr th {\n",
       "        vertical-align: top;\n",
       "    }\n",
       "\n",
       "    .dataframe thead th {\n",
       "        text-align: right;\n",
       "    }\n",
       "</style>\n",
       "<table border=\"1\" class=\"dataframe\">\n",
       "  <thead>\n",
       "    <tr style=\"text-align: right;\">\n",
       "      <th></th>\n",
       "      <th>text</th>\n",
       "      <th>label</th>\n",
       "      <th>cleaned_text</th>\n",
       "    </tr>\n",
       "  </thead>\n",
       "  <tbody>\n",
       "    <tr>\n",
       "      <th>0</th>\n",
       "      <td>Stuning even for the non-gamer: This sound tr...</td>\n",
       "      <td>__label__2</td>\n",
       "      <td>Stuning even nongamer sound track beautiful pa...</td>\n",
       "    </tr>\n",
       "    <tr>\n",
       "      <th>1</th>\n",
       "      <td>The best soundtrack ever to anything.: I'm re...</td>\n",
       "      <td>__label__2</td>\n",
       "      <td>best soundtrack ever anything Im reading lot r...</td>\n",
       "    </tr>\n",
       "    <tr>\n",
       "      <th>2</th>\n",
       "      <td>Amazing!: This soundtrack is my favorite musi...</td>\n",
       "      <td>__label__2</td>\n",
       "      <td>Amazing soundtrack favorite music time hands i...</td>\n",
       "    </tr>\n",
       "    <tr>\n",
       "      <th>3</th>\n",
       "      <td>Excellent Soundtrack: I truly like this sound...</td>\n",
       "      <td>__label__2</td>\n",
       "      <td>Excellent Soundtrack truly like soundtrack enj...</td>\n",
       "    </tr>\n",
       "    <tr>\n",
       "      <th>4</th>\n",
       "      <td>Remember, Pull Your Jaw Off The Floor After H...</td>\n",
       "      <td>__label__2</td>\n",
       "      <td>Remember Pull Jaw Floor Hearing youve played g...</td>\n",
       "    </tr>\n",
       "  </tbody>\n",
       "</table>\n",
       "</div>"
      ],
      "text/plain": [
       "                                                text        label  \\\n",
       "0   Stuning even for the non-gamer: This sound tr...  __label__2    \n",
       "1   The best soundtrack ever to anything.: I'm re...  __label__2    \n",
       "2   Amazing!: This soundtrack is my favorite musi...  __label__2    \n",
       "3   Excellent Soundtrack: I truly like this sound...  __label__2    \n",
       "4   Remember, Pull Your Jaw Off The Floor After H...  __label__2    \n",
       "\n",
       "                                        cleaned_text  \n",
       "0  Stuning even nongamer sound track beautiful pa...  \n",
       "1  best soundtrack ever anything Im reading lot r...  \n",
       "2  Amazing soundtrack favorite music time hands i...  \n",
       "3  Excellent Soundtrack truly like soundtrack enj...  \n",
       "4  Remember Pull Jaw Floor Hearing youve played g...  "
      ]
     },
     "execution_count": 57,
     "metadata": {},
     "output_type": "execute_result"
    }
   ],
   "source": [
    "df.head()"
   ]
  },
  {
   "cell_type": "code",
   "execution_count": 75,
   "metadata": {},
   "outputs": [
    {
     "name": "stdout",
     "output_type": "stream",
     "text": [
      "  (0, 39508)\t0.12221469611247483\n",
      "  (0, 38788)\t0.07260986456135858\n",
      "  (0, 38090)\t0.10387638514492085\n",
      "  (0, 36298)\t0.12165095677748702\n",
      "  (0, 34870)\t0.11141032609145377\n",
      "  (0, 34162)\t0.22033739761472357\n",
      "  (0, 33767)\t0.14825557274837042\n",
      "  (0, 33098)\t0.0987406120551005\n",
      "  (0, 33082)\t0.18824292643744853\n",
      "  (0, 31496)\t0.22033739761472357\n",
      "  (0, 29075)\t0.15041073400687754\n",
      "  (0, 26798)\t0.23748736595907363\n",
      "  (0, 26168)\t0.0829677199069675\n",
      "  (0, 25695)\t0.18824292643744853\n",
      "  (0, 25147)\t0.22033739761472357\n",
      "  (0, 24254)\t0.22033739761472357\n",
      "  (0, 23545)\t0.17854582895529747\n",
      "  (0, 22642)\t0.11270282544462244\n",
      "  (0, 20894)\t0.11194012649276325\n",
      "  (0, 19724)\t0.22033739761472357\n",
      "  (0, 17949)\t0.1694688643182667\n",
      "  (0, 16477)\t0.12820272425955975\n",
      "  (0, 16061)\t0.17219569084881103\n",
      "  (0, 15788)\t0.22033739761472357\n",
      "  (0, 14954)\t0.1300017857198499\n",
      "  :\t:\n",
      "  (9999, 24388)\t0.0685825625225324\n",
      "  (9999, 23214)\t0.09898141979780836\n",
      "  (9999, 23077)\t0.1612799862152586\n",
      "  (9999, 22972)\t0.10889920162622028\n",
      "  (9999, 21226)\t0.056465979677354144\n",
      "  (9999, 21090)\t0.06734457660831036\n",
      "  (9999, 17411)\t0.0692372101893352\n",
      "  (9999, 17123)\t0.10928878184716659\n",
      "  (9999, 15713)\t0.1612799862152586\n",
      "  (9999, 15564)\t0.043011437405195946\n",
      "  (9999, 15539)\t0.12713545320434544\n",
      "  (9999, 15289)\t0.11917077486974698\n",
      "  (9999, 15287)\t0.08892572199927819\n",
      "  (9999, 13416)\t0.08332574577032194\n",
      "  (9999, 12629)\t0.0812448527416693\n",
      "  (9999, 11801)\t0.12143359694950849\n",
      "  (9999, 9699)\t0.1096875294977455\n",
      "  (9999, 7509)\t0.09352650406222687\n",
      "  (9999, 7115)\t0.07356498772082405\n",
      "  (9999, 5709)\t0.07939176538764935\n",
      "  (9999, 4478)\t0.09015423028838594\n",
      "  (9999, 3929)\t0.08154882489665222\n",
      "  (9999, 2137)\t0.1457525296463311\n",
      "  (9999, 2119)\t0.14618584791500014\n",
      "  (9999, 2111)\t0.07952733405678618\n",
      "(10000, 40005)\n"
     ]
    }
   ],
   "source": [
    "from sklearn.feature_extraction.text import TfidfVectorizer\n",
    "\n",
    "Tfidf_vect = TfidfVectorizer()\n",
    "Tfidf_vect.fit(df[\"cleaned_text\"])\n",
    "Tfidf_matrix = Tfidf_vect.transform(df[\"cleaned_text\"])\n",
    "print(Tfidf_matrix)\n",
    "print(Tfidf_matrix.shape)"
   ]
  },
  {
   "cell_type": "code",
   "execution_count": 77,
   "metadata": {},
   "outputs": [
    {
     "name": "stdout",
     "output_type": "stream",
     "text": [
      "  (0, 37904)\t0.142001979617248\n",
      "  (0, 37689)\t0.05884209382739533\n",
      "  (0, 36880)\t0.05985929442649011\n",
      "  (0, 36726)\t0.07357598339987492\n",
      "  (0, 35846)\t0.04555459192199217\n",
      "  (0, 35657)\t0.06134186776174988\n",
      "  (0, 35650)\t0.13345954177917874\n",
      "  (0, 33904)\t0.08455951335791492\n",
      "  (0, 33187)\t0.10957728747549571\n",
      "  (0, 30103)\t0.10535520809121537\n",
      "  (0, 30010)\t0.0984228628161237\n",
      "  (0, 29051)\t0.15315640427662003\n",
      "  (0, 29050)\t0.21154643373888002\n",
      "  (0, 29049)\t0.12572285958165288\n",
      "  (0, 28488)\t0.08635607212928496\n",
      "  (0, 27859)\t0.09300820584481523\n",
      "  (0, 27538)\t0.15315640427662003\n",
      "  (0, 27103)\t0.07346185218999049\n",
      "  (0, 26525)\t0.08896394521057596\n",
      "  (0, 26214)\t0.07558634546592673\n",
      "  (0, 26082)\t0.15315640427662003\n",
      "  (0, 24916)\t0.07278121090172962\n",
      "  (0, 24564)\t0.146631484133768\n",
      "  (0, 24368)\t0.09379335829960365\n",
      "  (0, 24000)\t0.11598750506985515\n",
      "  :\t:\n",
      "  (7999, 15228)\t0.05892500846076493\n",
      "  (7999, 14829)\t0.10407319505223846\n",
      "  (7999, 14715)\t0.13329399964184319\n",
      "  (7999, 13864)\t0.06394267050568317\n",
      "  (7999, 13112)\t0.17462120530040995\n",
      "  (7999, 12593)\t0.07295242147431848\n",
      "  (7999, 12138)\t0.1032818469256192\n",
      "  (7999, 11096)\t0.17142379494167873\n",
      "  (7999, 10899)\t0.060108288223910566\n",
      "  (7999, 10378)\t0.08659745749582444\n",
      "  (7999, 10195)\t0.08808885853369905\n",
      "  (7999, 8520)\t0.09418078348364432\n",
      "  (7999, 8442)\t0.12223226391069252\n",
      "  (7999, 7486)\t0.12336910238139706\n",
      "  (7999, 6492)\t0.11668417749430096\n",
      "  (7999, 5132)\t0.12115450928982287\n",
      "  (7999, 4812)\t0.13663495736274867\n",
      "  (7999, 4227)\t0.06998763534828221\n",
      "  (7999, 4112)\t0.09279746365723139\n",
      "  (7999, 3489)\t0.14812208467202895\n",
      "  (7999, 2871)\t0.34286458944695486\n",
      "  (7999, 2411)\t0.08042049456229947\n",
      "  (7999, 1998)\t0.17840293908819638\n",
      "  (7999, 1355)\t0.0873040697181644\n",
      "  (7999, 84)\t0.16204866978317845\n",
      "(8000, 40005)\n"
     ]
    }
   ],
   "source": [
    "from sklearn.model_selection import train_test_split\n",
    "from sklearn.preprocessing import LabelEncoder\n",
    "\n",
    "label_encoder = LabelEncoder()\n",
    "df['encoded_label'] = label_encoder.fit_transform(df['label'])\n",
    "y = df['encoded_label'].values\n",
    "X=Tfidf_matrix\n",
    "\n",
    "# Split the data into training and testing sets\n",
    "X_train, X_test, y_train, y_test = train_test_split(X, y, test_size=0.2, random_state=42)\n",
    "print(X_train)\n",
    "print(X_train.shape)"
   ]
  },
  {
   "cell_type": "code",
   "execution_count": 81,
   "metadata": {},
   "outputs": [
    {
     "name": "stdout",
     "output_type": "stream",
     "text": [
      "0.8575\n"
     ]
    }
   ],
   "source": [
    "from sklearn.metrics import accuracy_score\n",
    "from sklearn.svm import SVC\n",
    "model=SVC(kernel='linear')\n",
    "model.fit(X_train,y_train)\n",
    "y_pred=model.predict(X_test)\n",
    "accuracy=accuracy_score(y_pred,y_test)\n",
    "print(accuracy)"
   ]
  }
 ],
 "metadata": {
  "kernelspec": {
   "display_name": "Python 3",
   "language": "python",
   "name": "python3"
  },
  "language_info": {
   "codemirror_mode": {
    "name": "ipython",
    "version": 3
   },
   "file_extension": ".py",
   "mimetype": "text/x-python",
   "name": "python",
   "nbconvert_exporter": "python",
   "pygments_lexer": "ipython3",
   "version": "3.11.0"
  }
 },
 "nbformat": 4,
 "nbformat_minor": 2
}
