{
 "cells": [
  {
   "cell_type": "code",
   "execution_count": null,
   "id": "c332edad",
   "metadata": {},
   "outputs": [],
   "source": [
    "import pandas as pd\n",
    "\n",
    "df = pd.read_csv(r'C:\\Users\\masan\\Voice Morph Companion\\Voice-Morph-Companion\\NLP Assignment\\corpus.csv' , encoding = 'latin1')\n",
    "\n",
    "print(df.head())"
   ]
  },
  {
   "cell_type": "markdown",
   "id": "a6534b2d",
   "metadata": {},
   "source": [
    "# Preprocessing"
   ]
  },
  {
   "cell_type": "code",
   "execution_count": null,
   "id": "bbea6a6a",
   "metadata": {},
   "outputs": [],
   "source": [
    "import nltk\n",
    "from nltk.corpus import stopwords\n",
    "from nltk.tokenize import word_tokenize\n",
    "import string\n",
    "\n",
    "\n",
    "def preprocess_text(text):\n",
    "    # Lowercase the text\n",
    "    text = text.lower()\n",
    "    text = text.translate(str.maketrans('', '', string.punctuation))\n",
    "    # Tokenization \n",
    "    tokens = word_tokenize(text)\n",
    "    # Remove stop words\n",
    "    stop_words = set(stopwords.words('english'))\n",
    "    tokens = [word for word in tokens if word not in stop_words]\n",
    "    return ' '.join(tokens)\n",
    "\n",
    "# Apply preprocessing \n",
    "df['text'] = df['text'].apply(preprocess_text)\n",
    "print(df['text'].head())\n"
   ]
  },
  {
   "cell_type": "markdown",
   "id": "ca742a79",
   "metadata": {},
   "source": [
    "# TF-IDF "
   ]
  },
  {
   "cell_type": "code",
   "execution_count": null,
   "id": "4ebc2a82",
   "metadata": {},
   "outputs": [],
   "source": [
    "from sklearn.feature_extraction.text import TfidfVectorizer\n",
    "\n",
    "Corpus = pd.DataFrame(df)\n",
    "\n",
    "# Initialize the TfidfVectorizer with a maximum of 5000 features\n",
    "Tfidf_vect = TfidfVectorizer(max_features=5000)\n",
    "\n",
    "# Fit the vectorizer on the text data\n",
    "Tfidf_vect.fit(Corpus['text'])\n",
    "\n",
    "# Transform the text data into a TF-IDF matrix\n",
    "Tfidf_matrix = Tfidf_vect.transform(Corpus['text'])\n",
    "\n",
    "# Convert the matrix to a DataFrame for better readability\n",
    "Tfidf_df = pd.DataFrame(Tfidf_matrix.toarray(), columns=Tfidf_vect.get_feature_names_out())\n",
    "\n",
    "# Display the DataFrame\n",
    "print(Tfidf_df.head());"
   ]
  },
  {
   "cell_type": "markdown",
   "id": "b10818f7",
   "metadata": {},
   "source": [
    "# SVM"
   ]
  },
  {
   "cell_type": "code",
   "execution_count": null,
   "id": "f11094cd",
   "metadata": {},
   "outputs": [],
   "source": [
    "from sklearn.model_selection import train_test_split\n",
    "from sklearn.svm import SVC\n",
    "from sklearn.metrics import accuracy_score\n",
    "\n",
    "# Prepare features and labels for training\n",
    "X = Tfidf_matrix\n",
    "y = df['label']\n",
    "\n",
    "# Split the data into training and testing sets\n",
    "X_train, X_test, y_train, y_test = train_test_split(X, y, test_size=0.2, random_state=42)\n",
    "\n",
    "# Initialize \n",
    "svm_classifier = SVC(kernel='linear')\n",
    "\n",
    "# Train \n",
    "svm_classifier.fit(X_train, y_train)\n",
    "\n",
    "#  predictions\n",
    "y_pred = svm_classifier.predict(X_test)"
   ]
  },
  {
   "cell_type": "markdown",
   "id": "0f457e4f",
   "metadata": {},
   "source": [
    "# Evaluation"
   ]
  },
  {
   "cell_type": "code",
   "execution_count": null,
   "id": "2d8dfdf2",
   "metadata": {},
   "outputs": [],
   "source": [
    "#accuracy\n",
    "accuracy = accuracy_score(y_test, y_pred)\n",
    "print(f'Accuracy: {accuracy:.2f}')"
   ]
  }
 ],
 "metadata": {
  "kernelspec": {
   "display_name": "Python 3 (ipykernel)",
   "language": "python",
   "name": "python3"
  },
  "language_info": {
   "codemirror_mode": {
    "name": "ipython",
    "version": 3
   },
   "file_extension": ".py",
   "mimetype": "text/x-python",
   "name": "python",
   "nbconvert_exporter": "python",
   "pygments_lexer": "ipython3",
   "version": "3.11.5"
  }
 },
 "nbformat": 4,
 "nbformat_minor": 5
}
