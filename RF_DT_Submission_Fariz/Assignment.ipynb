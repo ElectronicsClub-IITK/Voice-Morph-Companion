{
 "cells": [
  {
   "cell_type": "markdown",
   "metadata": {},
   "source": [
    "# Random Forests and Decision Trees\n",
    "- Classify the Spotify.csv dataset \n",
    "- Predict the Genre \n",
    "- The dataset has 23 Columns and The Output feature is **playlist_genre** so all others can be used as input features. Decide on what can be used and what cannot be used. \n",
    "- Do the Preprocessing below\n",
    "- Do 70:30 Train test split "
   ]
  },
  {
   "cell_type": "code",
   "execution_count": 1,
   "metadata": {},
   "outputs": [],
   "source": [
    "import numpy as np\n",
    "import pandas as pd\n",
    "import matplotlib.pyplot as plt\n",
    "from sklearn.model_selection import train_test_split\n",
    "from sklearn.preprocessing import LabelEncoder\n",
    "\n",
    "df=pd.read_csv(\"spotify Edited.csv\")\n",
    "y=df['playlist_genre']\n",
    "cols=['track_id','track_name','track_album_id','track_album_name','track_album_release_date','playlist_name'\n",
    "      ,'playlist_genre','playlist_subgenre']\n",
    "df=df.drop(cols,axis=1)\n",
    "\n",
    "encoder=LabelEncoder()\n",
    "df['track_artist'] = encoder.fit_transform(df['track_artist'])\n",
    "encoded_id=pd.get_dummies(df['playlist_id'])\n",
    "df=pd.concat([df,encoded_id],axis=1)\n",
    "df=df.drop('playlist_id',axis=1)\n",
    "\n",
    "X=df.values\n",
    "X_train,X_test,y_train,y_test=train_test_split(X,y,test_size=0.3)"
   ]
  },
  {
   "cell_type": "markdown",
   "metadata": {},
   "source": [
    "## Frame a Decision Tree Model \n",
    "- Use Any Parameters\n",
    "- You can use any library"
   ]
  },
  {
   "cell_type": "code",
   "execution_count": 3,
   "metadata": {},
   "outputs": [],
   "source": [
    "from sklearn.tree import DecisionTreeClassifier\n",
    "from sklearn.model_selection import GridSearchCV\n",
    "\n",
    "DF=DecisionTreeClassifier(max_depth=150,min_samples_leaf=1,min_samples_split=2)\n"
   ]
  },
  {
   "cell_type": "markdown",
   "metadata": {},
   "source": [
    "## Frame a Random Forests Model \n",
    "- Use Any Parameters\n",
    "- You can use any library"
   ]
  },
  {
   "cell_type": "code",
   "execution_count": 4,
   "metadata": {},
   "outputs": [],
   "source": [
    "from sklearn.ensemble import RandomForestClassifier\n",
    "\n",
    "RT=RandomForestClassifier(n_estimators=200,max_depth=150,min_samples_leaf=1,min_samples_split=6)\n"
   ]
  },
  {
   "cell_type": "markdown",
   "metadata": {},
   "source": [
    "## Train the Models and Report the Accuracy"
   ]
  },
  {
   "cell_type": "code",
   "execution_count": 6,
   "metadata": {},
   "outputs": [
    {
     "name": "stdout",
     "output_type": "stream",
     "text": [
      "accuracy with decision tree:0.5604060913705584\n",
      "accuracy with decision tree:0.7572588832487309\n"
     ]
    }
   ],
   "source": [
    "DF.fit(X_train,y_train)\n",
    "RT.fit(X_train,y_train)\n",
    "print(f\"accuracy with decision tree:{DF.score(X_test,y_test)}\")\n",
    "print(f\"accuracy with decision tree:{RT.score(X_test,y_test)}\")"
   ]
  }
 ],
 "metadata": {
  "kernelspec": {
   "display_name": "Python 3",
   "language": "python",
   "name": "python3"
  },
  "language_info": {
   "codemirror_mode": {
    "name": "ipython",
    "version": 3
   },
   "file_extension": ".py",
   "mimetype": "text/x-python",
   "name": "python",
   "nbconvert_exporter": "python",
   "pygments_lexer": "ipython3",
   "version": "3.11.5"
  }
 },
 "nbformat": 4,
 "nbformat_minor": 2
}
